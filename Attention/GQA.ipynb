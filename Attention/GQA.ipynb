{
 "cells": [
  {
   "cell_type": "code",
   "execution_count": 1,
   "metadata": {},
   "outputs": [
    {
     "name": "stderr",
     "output_type": "stream",
     "text": [
      "/Users/ant-lion/Desktop/Projects/transformers-from-scratch/.venv/lib/python3.12/site-packages/torch/_subclasses/functional_tensor.py:295: UserWarning: Failed to initialize NumPy: No module named 'numpy' (Triggered internally at /Users/runner/work/pytorch/pytorch/pytorch/torch/csrc/utils/tensor_numpy.cpp:84.)\n",
      "  cpu = _conversion_method_template(device=torch.device(\"cpu\"))\n"
     ]
    }
   ],
   "source": [
    "import torch\n",
    "import torch.nn as nn"
   ]
  },
  {
   "cell_type": "markdown",
   "metadata": {},
   "source": [
    "### Grouped Query Attention (GQA)\n",
    "\n",
    "A more compute & parameter **efficient** implementation of attention. The idea is to reduce the number of final query groups by reducing the number of KV projections.\n"
   ]
  },
  {
   "cell_type": "markdown",
   "metadata": {},
   "source": [
    "**Shared Buffers**\n",
    "\n",
    "- class that is used alongside rope to ruse the attention mask, sin and cos computations each subsequen prediction that improves effeciency\n"
   ]
  },
  {
   "cell_type": "code",
   "execution_count": 2,
   "metadata": {},
   "outputs": [],
   "source": [
    "from rope import precompute_rope_params_llama3 as precompute_rope_params\n",
    "class SharedBuffers:\n",
    "    _buffers = {}\n",
    "\n",
    "    @staticmethod\n",
    "    def get_buffers(context_length, head_dim, rope_base, freq_config, dtype=torch.float32):\n",
    "        # if rope config is not none, get the (mask, cos, sin) config values, otherwise pass none\n",
    "        key = (context_length, head_dim, rope_base, tuple(freq_config.values()) if freq_config else freq_config, dtype)\n",
    "\n",
    "        if key not in SharedBuffers._buffers:\n",
    "            # Create or fetch the buffers\n",
    "            mask = torch.triu(torch.ones(context_length, context_length), diagonal=1)\n",
    "            cos, sin = precompute_rope_params(head_dim, rope_base, context_length, freq_config)\n",
    "            if dtype is not None:\n",
    "                cos = cos.to(dtype)\n",
    "                sin = sin.to(dtype)\n",
    "            SharedBuffers._buffers[key] = (mask, cos, sin)\n",
    "\n",
    "        return SharedBuffers._buffers[key]"
   ]
  },
  {
   "cell_type": "code",
   "execution_count": 3,
   "metadata": {},
   "outputs": [],
   "source": [
    "class GroupedQueryAttention(nn.Module):\n",
    "    def __init__(\n",
    "            self, d_in, d_out, context_length, num_heads,\n",
    "            num_kv_groups,       # NEW\n",
    "            rope_base=10_000,    # NEW\n",
    "            rope_config=None,    # NEW\n",
    "            dtype=None\n",
    "        ):\n",
    "        super().__init__()\n",
    "        assert d_out % num_heads == 0, \"d_out must be divisible by num_heads\"\n",
    "        assert num_heads % num_kv_groups == 0, \"num_heads must be divisible by num_kv_groups\"\n",
    "\n",
    "        # Set the dimensions of the q, k, v queries\n",
    "        self.d_out = d_out\n",
    "        self.num_heads = num_heads\n",
    "        self.head_dim = d_out // num_heads\n",
    "\n",
    "        # Create the k and v weight matricies. \n",
    "        # Traditionally, the second dim is d_out. If num_kv_groups=1 we have Multi-Query, if num_kv_groups=num_head we have Multi-head attention\n",
    "        self.W_key = nn.Linear(d_in, num_kv_groups * self.head_dim, bias=False, dtype=dtype)\n",
    "        self.W_value = nn.Linear(d_in, num_kv_groups * self.head_dim, bias=False, dtype=dtype)\n",
    "        self.num_kv_groups = num_kv_groups\n",
    "        self.group_size = num_heads // num_kv_groups\n",
    "\n",
    "        # query weights are the same as MHA\n",
    "        self.W_query = nn.Linear(d_in, d_out, bias=False, dtype=dtype)\n",
    "        self.out_proj = nn.Linear(d_out, d_out, bias=False, dtype=dtype)\n",
    "        \n",
    "        # Fetch buffers using Shared buffers class\n",
    "        mask, cos, sin = SharedBuffers.get_buffers(context_length, self.head_dim, rope_base, rope_config, dtype)\n",
    "\n",
    "        self.register_buffer(\"mask\", mask)\n",
    "        self.register_buffer(\"cos\", cos)\n",
    "        self.register_buffer(\"sin\", sin)"
   ]
  },
  {
   "cell_type": "markdown",
   "metadata": {},
   "source": [
    "#### Stepping through the forward pass\n"
   ]
  },
  {
   "cell_type": "markdown",
   "metadata": {},
   "source": [
    "create fake input tokens\n"
   ]
  },
  {
   "cell_type": "code",
   "execution_count": 4,
   "metadata": {},
   "outputs": [
    {
     "name": "stdout",
     "output_type": "stream",
     "text": [
      "Batch Shape: torch.Size([2, 3000, 4096])\n",
      "There are 2 exmaples of size 3000x4096 in the batch\n"
     ]
    }
   ],
   "source": [
    "# Settings\n",
    "batch_size = 2\n",
    "context_length = 3000\n",
    "max_context_len=8192\n",
    "embed_dim  =4096\n",
    "num_heads = 32\n",
    "x_batch = torch.randn((batch_size, context_length, embed_dim))\n",
    "# Create the batch inputs \n",
    "print(f\"Batch Shape: {x_batch.shape}\")\n",
    "print(f\"There are {x_batch.shape[0]} exmaples of size {x_batch.shape[1]}x{x_batch.shape[2]} in the batch\")"
   ]
  },
  {
   "cell_type": "markdown",
   "metadata": {},
   "source": [
    "Lets initialize all of the layers using the GroupedQueryAttention class we created\n"
   ]
  },
  {
   "cell_type": "code",
   "execution_count": 5,
   "metadata": {},
   "outputs": [],
   "source": [
    "num_kv_groups = 8 # can be tuned, but make sure it evenly divides the number of heads\n",
    "gqa = GroupedQueryAttention(\n",
    "    d_in=embed_dim, \n",
    "    d_out=embed_dim, \n",
    "    context_length=context_length,\n",
    "    num_heads=num_heads,\n",
    "    num_kv_groups=num_kv_groups,\n",
    "    rope_base=500_000\n",
    "    )"
   ]
  },
  {
   "cell_type": "markdown",
   "metadata": {},
   "source": [
    "Now that we have all of our layers, lets step through the forward pass to see what is happening\n"
   ]
  },
  {
   "cell_type": "code",
   "execution_count": 6,
   "metadata": {},
   "outputs": [
    {
     "data": {
      "text/plain": [
       "torch.Size([2, 3000, 4096])"
      ]
     },
     "execution_count": 6,
     "metadata": {},
     "output_type": "execute_result"
    }
   ],
   "source": [
    "# First get the dimensions of the input, in this case it is x_batch\n",
    "b, num_tokens, d_in = x_batch.shape\n",
    "x_batch.shape"
   ]
  },
  {
   "cell_type": "markdown",
   "metadata": {},
   "source": [
    "**Create the Q, K, and V weight matricies**\n"
   ]
  },
  {
   "cell_type": "code",
   "execution_count": 7,
   "metadata": {},
   "outputs": [],
   "source": [
    "queries = gqa.W_query(x_batch)\n",
    "keys = gqa.W_key(x_batch)\n",
    "values = gqa.W_value(x_batch)"
   ]
  },
  {
   "cell_type": "code",
   "execution_count": 8,
   "metadata": {},
   "outputs": [
    {
     "name": "stdout",
     "output_type": "stream",
     "text": [
      "Input Shape: torch.Size([2, 3000, 4096])\n",
      "Output Shape: torch.Size([2, 3000, 4096])\n"
     ]
    }
   ],
   "source": [
    "print(f\"Input Shape: {x_batch.shape}\")\n",
    "print(f\"Output Shape: {queries.shape}\")"
   ]
  },
  {
   "cell_type": "markdown",
   "metadata": {},
   "source": [
    "**reshape the queries, keys and values matricies**\n"
   ]
  },
  {
   "cell_type": "code",
   "execution_count": 9,
   "metadata": {},
   "outputs": [],
   "source": [
    "queries = queries.view(b, num_tokens, gqa.num_heads, gqa.head_dim)"
   ]
  },
  {
   "cell_type": "code",
   "execution_count": 10,
   "metadata": {},
   "outputs": [
    {
     "name": "stdout",
     "output_type": "stream",
     "text": [
      "Output Shape: torch.Size([2, 3000, 32, 128])\n",
      "See how we split the embedding dimension 4096 into two 32 x 128\n"
     ]
    }
   ],
   "source": [
    "print(f\"Output Shape: {queries.shape}\")\n",
    "print(f\"See how we split the embedding dimension 4096 into two 32 x 128\")"
   ]
  },
  {
   "cell_type": "markdown",
   "metadata": {},
   "source": [
    "Now lets do the same for the keys and the values. One thing to notice here is that we are using the number of key value groups here instead of the number of heads. This compresses the latent space of the key and value vectors, which reduces the load on the KV cache, making the attention head much more efficient. There is a trade off between the number of groups.\n",
    "If the number of groups is equivalent to the number of heads we don't see any efficiency gains, but the attention mechanism is more accurate. This is the same as Multiheaded attention [paper]()\n",
    "\n",
    "If the number of groups is 1, we get much better efficiency but an accuracy loss is often present. This is the same as Multi Query attention [paper]()\n"
   ]
  },
  {
   "cell_type": "code",
   "execution_count": 11,
   "metadata": {},
   "outputs": [],
   "source": [
    "keys = keys.view(b, num_tokens, gqa.num_kv_groups, gqa.head_dim)\n",
    "values = values.view(b, num_tokens, gqa.num_kv_groups, gqa.head_dim)"
   ]
  },
  {
   "cell_type": "markdown",
   "metadata": {},
   "source": [
    "**Transposing Tensors to split the combined heads into their individual heads**\n"
   ]
  },
  {
   "cell_type": "code",
   "execution_count": 12,
   "metadata": {},
   "outputs": [],
   "source": [
    "keys = keys.transpose(1, 2) # (batch, num_kv_groups, num_tokens, head_dim)\n",
    "values = values.transpose(1, 2) # (batch, num_kv_groups, num_tokens, head_dim)\n",
    "queries = queries.transpose(1, 2) # (batch, num_heads, num_tokens, head_dim)"
   ]
  },
  {
   "cell_type": "markdown",
   "metadata": {},
   "source": [
    "**Apply RoPE**\n"
   ]
  },
  {
   "cell_type": "code",
   "execution_count": 13,
   "metadata": {},
   "outputs": [],
   "source": [
    "from rope import compute_rope\n",
    "keys = compute_rope(keys, gqa.cos, gqa.sin)\n",
    "queries = compute_rope(queries, gqa.cos, gqa.sin)"
   ]
  },
  {
   "cell_type": "markdown",
   "metadata": {},
   "source": [
    "**Expand the compressed key and value groups to match the number of heads**\n",
    "\n",
    "This is what is happening here:\n",
    "\n",
    "Before repeat_interleave along dim=1 (query groups):\n",
    "\n",
    "- [K1, K2]\n",
    "\n",
    "After repeat_interleave (each query group is repeated group_size times):\n",
    "\n",
    "- [K1, K1, K2, K2]\n",
    "\n",
    "If we used regular repeat instead of repeat_interleave, we'd get:\n",
    "\n",
    "- [K1, K2, K1, K2]\n"
   ]
  },
  {
   "cell_type": "code",
   "execution_count": 14,
   "metadata": {},
   "outputs": [],
   "source": [
    "keys = keys.repeat_interleave(gqa.group_size, dim=1)  # Shape: (b, num_heads, num_tokens, head_dim)\n",
    "values = values.repeat_interleave(gqa.group_size, dim=1)  # Shape: (b, num_heads, num_tokens, head_dim)"
   ]
  },
  {
   "cell_type": "markdown",
   "metadata": {},
   "source": [
    "**Self attention with causal mask**\n"
   ]
  },
  {
   "cell_type": "code",
   "execution_count": 15,
   "metadata": {},
   "outputs": [
    {
     "data": {
      "text/plain": [
       "torch.Size([2, 32, 3000, 128])"
      ]
     },
     "execution_count": 15,
     "metadata": {},
     "output_type": "execute_result"
    }
   ],
   "source": [
    "keys.shape"
   ]
  },
  {
   "cell_type": "code",
   "execution_count": 16,
   "metadata": {},
   "outputs": [],
   "source": [
    "attn_scores = queries @ keys.transpose(2, 3)  # Dot product for each head"
   ]
  },
  {
   "cell_type": "code",
   "execution_count": 18,
   "metadata": {},
   "outputs": [
    {
     "data": {
      "text/plain": [
       "tensor([[ 4.3431, -3.0201, -3.2463,  ...,  0.4197,  4.4118, -4.0584],\n",
       "        [ 0.8311,  1.7444,  1.4355,  ...,  0.3652, -3.0394, -0.8232],\n",
       "        [ 0.9977, -1.2324, -3.9204,  ...,  3.1144, -2.0908,  4.2852],\n",
       "        ...,\n",
       "        [-1.2618,  4.5581, -3.4784,  ...,  5.6611, -2.2241, -0.0371],\n",
       "        [ 3.5333, -1.4920, -5.0984,  ..., -1.1776, -0.7741,  2.7010],\n",
       "        [ 1.8170, -0.0663,  0.4966,  ..., -1.7697,  5.8875, -0.6811]],\n",
       "       grad_fn=<SliceBackward0>)"
      ]
     },
     "execution_count": 18,
     "metadata": {},
     "output_type": "execute_result"
    }
   ],
   "source": [
    "attn_scores[0,0,:,:]"
   ]
  },
  {
   "cell_type": "markdown",
   "metadata": {},
   "source": [
    "**Apply attention mask**\n"
   ]
  },
  {
   "cell_type": "code",
   "execution_count": 19,
   "metadata": {},
   "outputs": [
    {
     "data": {
      "text/plain": [
       "tensor([[[[  4.3431,     -inf,     -inf,  ...,     -inf,     -inf,     -inf],\n",
       "          [  0.8311,   1.7444,     -inf,  ...,     -inf,     -inf,     -inf],\n",
       "          [  0.9977,  -1.2324,  -3.9204,  ...,     -inf,     -inf,     -inf],\n",
       "          ...,\n",
       "          [ -1.2618,   4.5581,  -3.4784,  ...,   5.6611,     -inf,     -inf],\n",
       "          [  3.5333,  -1.4920,  -5.0984,  ...,  -1.1776,  -0.7741,     -inf],\n",
       "          [  1.8170,  -0.0663,   0.4966,  ...,  -1.7697,   5.8875,  -0.6811]],\n",
       "\n",
       "         [[ -5.8828,     -inf,     -inf,  ...,     -inf,     -inf,     -inf],\n",
       "          [ -4.4849,  -1.9317,     -inf,  ...,     -inf,     -inf,     -inf],\n",
       "          [ -0.7706,   0.5707,   5.5048,  ...,     -inf,     -inf,     -inf],\n",
       "          ...,\n",
       "          [  3.9763,   0.8077,   1.6192,  ...,  -1.0558,     -inf,     -inf],\n",
       "          [  3.5011,  -2.4071, -11.2116,  ...,  -1.1011,   7.8819,     -inf],\n",
       "          [  0.8048,  -0.5970,  -3.8474,  ...,   5.7352,  -3.4377,   0.6053]],\n",
       "\n",
       "         [[ -5.6287,     -inf,     -inf,  ...,     -inf,     -inf,     -inf],\n",
       "          [  4.3646,   6.4546,     -inf,  ...,     -inf,     -inf,     -inf],\n",
       "          [ -2.4317,   1.4422,   6.7382,  ...,     -inf,     -inf,     -inf],\n",
       "          ...,\n",
       "          [ -2.4043,  -1.6159,  -3.1281,  ...,  -3.2090,     -inf,     -inf],\n",
       "          [ -2.7051,   2.1439,   1.7568,  ...,  -7.8842,   9.2388,     -inf],\n",
       "          [ -1.5558,  -9.4427,  -1.8718,  ...,   7.7023,  -0.2239,  -2.0472]],\n",
       "\n",
       "         ...,\n",
       "\n",
       "         [[ -1.7739,     -inf,     -inf,  ...,     -inf,     -inf,     -inf],\n",
       "          [ -1.2573,   4.1863,     -inf,  ...,     -inf,     -inf,     -inf],\n",
       "          [  0.9184,   0.9694,  -4.0341,  ...,     -inf,     -inf,     -inf],\n",
       "          ...,\n",
       "          [  0.7453,   0.7940,   6.0233,  ...,  -0.9549,     -inf,     -inf],\n",
       "          [  2.6906,  -1.5032,   2.1547,  ...,   0.3728,   0.1433,     -inf],\n",
       "          [ -3.0225,  -1.7747,   0.0834,  ...,   0.6628,   2.1974,   4.6575]],\n",
       "\n",
       "         [[ -1.6566,     -inf,     -inf,  ...,     -inf,     -inf,     -inf],\n",
       "          [ -3.6240,   3.9895,     -inf,  ...,     -inf,     -inf,     -inf],\n",
       "          [ -1.1517,   1.7720,   0.5817,  ...,     -inf,     -inf,     -inf],\n",
       "          ...,\n",
       "          [  1.5777,  -4.1428,  -6.2854,  ...,  -0.9041,     -inf,     -inf],\n",
       "          [ -0.1906,   0.0500,   1.2946,  ...,   1.4566,   2.2817,     -inf],\n",
       "          [ -4.1825,   4.0320,   3.2446,  ...,   4.6733,   4.7623,  -0.4559]],\n",
       "\n",
       "         [[ -4.2569,     -inf,     -inf,  ...,     -inf,     -inf,     -inf],\n",
       "          [  1.3742,   2.5019,     -inf,  ...,     -inf,     -inf,     -inf],\n",
       "          [ -2.7805,   1.1195,   0.1683,  ...,     -inf,     -inf,     -inf],\n",
       "          ...,\n",
       "          [ -7.4001,  -1.8991,   4.7950,  ...,   1.3775,     -inf,     -inf],\n",
       "          [ -0.4999,  -0.7771,  -5.5978,  ...,   3.8299,  -4.2635,     -inf],\n",
       "          [ -2.7834,   2.3969,  -1.2473,  ...,  -1.3034,   5.8540,   5.0579]]],\n",
       "\n",
       "\n",
       "        [[[ -0.1366,     -inf,     -inf,  ...,     -inf,     -inf,     -inf],\n",
       "          [  0.1072,  -4.9282,     -inf,  ...,     -inf,     -inf,     -inf],\n",
       "          [  3.7401,   0.4565,  -3.4849,  ...,     -inf,     -inf,     -inf],\n",
       "          ...,\n",
       "          [  6.4644,  -0.2671,  -8.1893,  ...,   4.3538,     -inf,     -inf],\n",
       "          [ -3.3492,   0.5416,  -0.6074,  ...,   4.8463,  -2.9477,     -inf],\n",
       "          [  3.3751,   4.8306,  -5.9344,  ...,  -1.3209,   2.9932,   1.1672]],\n",
       "\n",
       "         [[  0.9483,     -inf,     -inf,  ...,     -inf,     -inf,     -inf],\n",
       "          [ -3.4509,  -0.7984,     -inf,  ...,     -inf,     -inf,     -inf],\n",
       "          [ -0.2867,   4.7420,   1.1692,  ...,     -inf,     -inf,     -inf],\n",
       "          ...,\n",
       "          [ -9.8792,   2.9957,   0.7218,  ...,  -3.0209,     -inf,     -inf],\n",
       "          [  4.3174,  -5.6802,  -0.0273,  ...,  -0.0141,   1.8303,     -inf],\n",
       "          [  1.3319,  -2.7843,   0.1657,  ...,  -0.7293,  -4.2097,  -6.0752]],\n",
       "\n",
       "         [[  0.2171,     -inf,     -inf,  ...,     -inf,     -inf,     -inf],\n",
       "          [ -3.0410,   4.1303,     -inf,  ...,     -inf,     -inf,     -inf],\n",
       "          [  3.9877,   1.4202,  -9.2490,  ...,     -inf,     -inf,     -inf],\n",
       "          ...,\n",
       "          [ -4.7470,  -4.0927,  -1.8991,  ...,  -2.1306,     -inf,     -inf],\n",
       "          [  1.6349,   2.7408,  -3.2914,  ...,  -0.4238,  -0.8899,     -inf],\n",
       "          [  3.1197,   2.7550,  -3.8552,  ...,  -5.6367,   3.7731,   0.1158]],\n",
       "\n",
       "         ...,\n",
       "\n",
       "         [[  0.4426,     -inf,     -inf,  ...,     -inf,     -inf,     -inf],\n",
       "          [ -1.6632,   0.5027,     -inf,  ...,     -inf,     -inf,     -inf],\n",
       "          [ -1.9765,  -3.3210,   0.7439,  ...,     -inf,     -inf,     -inf],\n",
       "          ...,\n",
       "          [ -9.9096,   0.6169,   4.7589,  ...,  -0.3144,     -inf,     -inf],\n",
       "          [ -2.9472,   6.1992,   1.8312,  ...,  -2.2224,   7.2837,     -inf],\n",
       "          [  3.8683,   1.3232,   0.2008,  ...,  -0.7136,   1.6254,   5.7652]],\n",
       "\n",
       "         [[  0.1671,     -inf,     -inf,  ...,     -inf,     -inf,     -inf],\n",
       "          [ 12.1882,  -6.9920,     -inf,  ...,     -inf,     -inf,     -inf],\n",
       "          [ -3.7664,  -3.2515,   7.7081,  ...,     -inf,     -inf,     -inf],\n",
       "          ...,\n",
       "          [  7.3267,  -4.7941,   0.0940,  ...,   2.9584,     -inf,     -inf],\n",
       "          [ -2.9642,  -1.8424,   2.0722,  ...,   4.7863,  -4.6733,     -inf],\n",
       "          [  4.5336,  -2.7689,  -0.4152,  ...,  -6.0886,   2.9092,   2.0639]],\n",
       "\n",
       "         [[  0.0338,     -inf,     -inf,  ...,     -inf,     -inf,     -inf],\n",
       "          [ -1.0820,   2.7356,     -inf,  ...,     -inf,     -inf,     -inf],\n",
       "          [ -1.5049,   0.6751,  -5.8178,  ...,     -inf,     -inf,     -inf],\n",
       "          ...,\n",
       "          [ -0.6377,   1.0576,  -6.1938,  ...,  -2.6027,     -inf,     -inf],\n",
       "          [  5.2346,   4.8979,  -2.9388,  ...,   2.2309,  -3.2649,     -inf],\n",
       "          [  1.5420,   0.2072,   0.8626,  ...,  -7.3153,  -2.1019,   1.3996]]]],\n",
       "       grad_fn=<MaskedFillBackward0>)"
      ]
     },
     "execution_count": 19,
     "metadata": {},
     "output_type": "execute_result"
    }
   ],
   "source": [
    "# Original mask truncated to the number of tokens and converted to boolean\n",
    "mask_bool = gqa.mask.bool()[:num_tokens, :num_tokens]\n",
    "\n",
    "# Use the mask to fill attention scores\n",
    "attn_scores.masked_fill_(mask_bool, -torch.inf)"
   ]
  },
  {
   "cell_type": "markdown",
   "metadata": {},
   "source": [
    "**Normalize weights**\n"
   ]
  },
  {
   "cell_type": "code",
   "execution_count": 20,
   "metadata": {},
   "outputs": [],
   "source": [
    "attn_weights = torch.softmax(attn_scores / keys.shape[-1]**0.5, dim=-1)\n",
    "assert keys.shape[-1] == gqa.head_dim"
   ]
  }
 ],
 "metadata": {
  "kernelspec": {
   "display_name": ".venv",
   "language": "python",
   "name": "python3"
  },
  "language_info": {
   "codemirror_mode": {
    "name": "ipython",
    "version": 3
   },
   "file_extension": ".py",
   "mimetype": "text/x-python",
   "name": "python",
   "nbconvert_exporter": "python",
   "pygments_lexer": "ipython3",
   "version": "3.12.7"
  }
 },
 "nbformat": 4,
 "nbformat_minor": 2
}
