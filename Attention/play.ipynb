{
 "cells": [
  {
   "cell_type": "code",
   "execution_count": 1,
   "metadata": {},
   "outputs": [],
   "source": [
    "import torch\n",
    "import torch.nn as nn"
   ]
  },
  {
   "cell_type": "markdown",
   "metadata": {},
   "source": [
    "#### **Simplified Self-Attention**\n"
   ]
  },
  {
   "cell_type": "code",
   "execution_count": 2,
   "metadata": {},
   "outputs": [],
   "source": [
    "inputs = torch.tensor(\n",
    "  [[0.43, 0.15, 0.89], # Your     (x^1)\n",
    "   [0.55, 0.87, 0.66], # journey  (x^2)\n",
    "   [0.57, 0.85, 0.64], # starts   (x^3)\n",
    "   [0.22, 0.58, 0.33], # with     (x^4)\n",
    "   [0.77, 0.25, 0.10], # one      (x^5)\n",
    "   [0.05, 0.80, 0.55]] # step     (x^6)\n",
    ")"
   ]
  },
  {
   "cell_type": "markdown",
   "metadata": {},
   "source": [
    "**Single Input Attention Calculation**\n"
   ]
  },
  {
   "cell_type": "code",
   "execution_count": 8,
   "metadata": {},
   "outputs": [
    {
     "data": {
      "text/plain": [
       "tensor([0.9544, 1.4950, 1.4754, 0.8434, 0.7070, 1.0865])"
      ]
     },
     "execution_count": 8,
     "metadata": {},
     "output_type": "execute_result"
    }
   ],
   "source": [
    "query = inputs[1] # Getting the second row, or the features of the token \"journey\"\n",
    "\n",
    "attn_scores_2 = torch.empty(inputs.shape[0])\n",
    "\n",
    "# loop through the tokens in the sequence\n",
    "for i, x_i in enumerate(inputs):\n",
    "    # take the dot product of each token embedding vector\n",
    "    attn_scores_2[i] = torch.dot(x_i, query)\n",
    "    \n",
    "    # Dot Product example:\n",
    "    # torch.Tensor([1,2,3,4,5]).dot(torch.Tensor([2,1,2,1,2]))\n",
    "    # (1*2)+(2*1)+(3*2)+(4*1)+(5*2) = tensor(24.)\n",
    "\n",
    "attn_scores_2\n"
   ]
  },
  {
   "cell_type": "code",
   "execution_count": 19,
   "metadata": {},
   "outputs": [
    {
     "name": "stdout",
     "output_type": "stream",
     "text": [
      "Unnormailzed: tensor([0.9544, 1.4950, 1.4754, 0.8434, 0.7070, 1.0865])\n",
      "Normailzed: tensor([0.1455, 0.2278, 0.2249, 0.1285, 0.1077, 0.1656])\n"
     ]
    }
   ],
   "source": [
    "# Normalize the attention scores\n",
    "attn_scores_norm = attn_scores_2 / torch.sum(attn_scores_2)\n",
    "print(f\"Unnormailzed: {attn_scores_2}\")\n",
    "print(f\"Normailzed: {attn_scores_norm}\")"
   ]
  },
  {
   "cell_type": "code",
   "execution_count": 30,
   "metadata": {},
   "outputs": [
    {
     "name": "stdout",
     "output_type": "stream",
     "text": [
      "tensor([0.1385, 0.2379, 0.2333, 0.1240, 0.1082, 0.1581])\n",
      "tensor([0.1385, 0.2379, 0.2333, 0.1240, 0.1082, 0.1581])\n"
     ]
    }
   ],
   "source": [
    "# But softmax is more desireable for normalization\n",
    "# Do note that there are underflow and overflow issues that come from this softmax implementation\n",
    "print(attn_scores_2.exp() / attn_scores_2.exp().sum())\n",
    "\n",
    "# This softmax implementation is preffered.\n",
    "print(attn_scores_2.softmax(dim=0))"
   ]
  },
  {
   "cell_type": "code",
   "execution_count": 46,
   "metadata": {},
   "outputs": [
    {
     "data": {
      "text/plain": [
       "tensor([0.4419, 0.6515, 0.5683])"
      ]
     },
     "execution_count": 46,
     "metadata": {},
     "output_type": "execute_result"
    }
   ],
   "source": [
    "# calculate the updated embeddings\n",
    "inputs.T @ attn_scores_2.softmax(dim=0)"
   ]
  },
  {
   "cell_type": "markdown",
   "metadata": {},
   "source": [
    "**Full Attention Calculation**\n"
   ]
  },
  {
   "cell_type": "code",
   "execution_count": 100,
   "metadata": {},
   "outputs": [],
   "source": [
    "# Get the attention scores for the query\n",
    "attn_scores = inputs @ inputs.T\n",
    "\n",
    "# normalize w/ softmax\n",
    "attn_weights = attn_scores.softmax(dim=-1)"
   ]
  },
  {
   "cell_type": "code",
   "execution_count": 101,
   "metadata": {},
   "outputs": [
    {
     "data": {
      "text/plain": [
       "tensor([[0.4421, 0.5931, 0.5790],\n",
       "        [0.4419, 0.6515, 0.5683],\n",
       "        [0.4431, 0.6496, 0.5671],\n",
       "        [0.4304, 0.6298, 0.5510],\n",
       "        [0.4671, 0.5910, 0.5266],\n",
       "        [0.4177, 0.6503, 0.5645]])"
      ]
     },
     "execution_count": 101,
     "metadata": {},
     "output_type": "execute_result"
    }
   ],
   "source": [
    "# Compute vectors\n",
    "attn_weights @ inputs"
   ]
  },
  {
   "cell_type": "markdown",
   "metadata": {},
   "source": [
    "#### **Self-Attention**\n"
   ]
  },
  {
   "cell_type": "code",
   "execution_count": 103,
   "metadata": {},
   "outputs": [],
   "source": [
    "x_2 = inputs[1] # second input token\n",
    "d_in = inputs.shape[1] # The input embedding size, d=3\n",
    "d_out = 2 # the output embedding size"
   ]
  },
  {
   "cell_type": "code",
   "execution_count": 133,
   "metadata": {},
   "outputs": [],
   "source": [
    "torch.manual_seed(42)\n",
    "# We will use three matricies to project the embedded tokens, into:\n",
    "# query vector: What we are \"interested in\"\n",
    "W_query = nn.Parameter(torch.randn(d_in, d_out), requires_grad=False)\n",
    "# key vector: What we have\n",
    "W_key = nn.Parameter(torch.randn(d_in, d_out), requires_grad=False)\n",
    "# Value vector: what information to communicate if it is \"interesting\"\n",
    "W_value = nn.Parameter(torch.randn(d_in, d_out), requires_grad=False)"
   ]
  },
  {
   "cell_type": "code",
   "execution_count": 134,
   "metadata": {},
   "outputs": [],
   "source": [
    "query = inputs @ W_query\n",
    "keys = inputs @ W_key\n",
    "values = inputs @ W_value"
   ]
  },
  {
   "cell_type": "code",
   "execution_count": 135,
   "metadata": {},
   "outputs": [],
   "source": [
    "qk_attn = query @ keys.T"
   ]
  },
  {
   "cell_type": "code",
   "execution_count": 136,
   "metadata": {},
   "outputs": [],
   "source": [
    "# using the key dimension\n",
    "d_k = keys.shape[1]\n",
    "# divide by sqrt if embedding dimension for scalling\n",
    "# And apply softmax\n",
    "qk_norm = (qk_attn * d_k**-0.5).softmax(dim=-1)"
   ]
  },
  {
   "cell_type": "code",
   "execution_count": 138,
   "metadata": {},
   "outputs": [
    {
     "data": {
      "text/plain": [
       "tensor([[0.1596, 0.1217, 0.1202, 0.2238, 0.1343, 0.2405],\n",
       "        [0.1686, 0.1487, 0.1473, 0.1899, 0.1408, 0.2047],\n",
       "        [0.1688, 0.1501, 0.1487, 0.1882, 0.1417, 0.2024],\n",
       "        [0.1686, 0.1590, 0.1581, 0.1772, 0.1523, 0.1848],\n",
       "        [0.1690, 0.1798, 0.1798, 0.1526, 0.1645, 0.1543],\n",
       "        [0.1670, 0.1448, 0.1435, 0.1945, 0.1422, 0.2080]])"
      ]
     },
     "execution_count": 138,
     "metadata": {},
     "output_type": "execute_result"
    }
   ],
   "source": [
    "qk_norm"
   ]
  },
  {
   "cell_type": "code",
   "execution_count": 137,
   "metadata": {},
   "outputs": [
    {
     "data": {
      "text/plain": [
       "tensor([[0.5141, 0.3639],\n",
       "        [0.5633, 0.3251],\n",
       "        [0.5659, 0.3221],\n",
       "        [0.5839, 0.2941],\n",
       "        [0.6180, 0.2539],\n",
       "        [0.5575, 0.3262]])"
      ]
     },
     "execution_count": 137,
     "metadata": {},
     "output_type": "execute_result"
    }
   ],
   "source": [
    "qk_norm @ values"
   ]
  },
  {
   "cell_type": "markdown",
   "metadata": {},
   "source": [
    "**Putting it all together**\n"
   ]
  },
  {
   "cell_type": "code",
   "execution_count": 150,
   "metadata": {},
   "outputs": [],
   "source": [
    "class SelfAttention_v1(nn.Module):\n",
    "    def __init__(self, d_in, d_out):\n",
    "        super().__init__()\n",
    "        self.W_query = nn.Parameter(torch.randn(d_in, d_out))\n",
    "        self.W_key = nn.Parameter(torch.randn(d_in, d_out))\n",
    "        self.W_value = nn.Parameter(torch.randn(d_in, d_out))\n",
    "    \n",
    "    def forward(self, x:torch.Tensor):\n",
    "        q = x @ self.W_query\n",
    "        k = x @ self.W_key\n",
    "        v = x @ self.W_value\n",
    "\n",
    "        # multiply query and keys\n",
    "        attn_scores = q @ k.T\n",
    "\n",
    "        # Scaled normalization\n",
    "        d_k = k.shape[1]\n",
    "        attn_weights = (attn_scores * d_k**-0.5).softmax(dim=-1)\n",
    "\n",
    "        # qk normalized matmul values to get output\n",
    "        out = attn_weights @ v\n",
    "        return out"
   ]
  },
  {
   "cell_type": "code",
   "execution_count": 151,
   "metadata": {},
   "outputs": [
    {
     "data": {
      "text/plain": [
       "tensor([[0.5141, 0.3639],\n",
       "        [0.5633, 0.3251],\n",
       "        [0.5659, 0.3221],\n",
       "        [0.5839, 0.2941],\n",
       "        [0.6180, 0.2539],\n",
       "        [0.5575, 0.3262]], grad_fn=<MmBackward0>)"
      ]
     },
     "execution_count": 151,
     "metadata": {},
     "output_type": "execute_result"
    }
   ],
   "source": [
    "torch.manual_seed(42)\n",
    "self_attn = SelfAttention_v1(3, 2)\n",
    "\n",
    "self_attn(inputs)"
   ]
  },
  {
   "cell_type": "code",
   "execution_count": 154,
   "metadata": {},
   "outputs": [],
   "source": [
    "class SelfAttention_v2(nn.Module):\n",
    "    \"\"\"Implementation using nn.Linear instead of matrix multiplication\"\"\"\n",
    "    def __init__(self, d_in, d_out, bias=False):\n",
    "        super().__init__()\n",
    "        self.W_query = nn.Linear(d_in, d_out, bias=bias)\n",
    "        self.W_keys = nn.Linear(d_in, d_out, bias=bias)\n",
    "        self.W_value = nn.Linear(d_in, d_out, bias=bias)\n",
    "    \n",
    "    def forward(self, x:torch.Tensor):\n",
    "        q = self.W_query(x)\n",
    "        k = self.W_keys(x)\n",
    "        v = self.W_value(x)\n",
    "\n",
    "        # mul q & k\n",
    "        attn_scores = q @ k.T\n",
    "        \n",
    "        # normalize\n",
    "        attn_weights = (attn_scores * k.shape[1]**-0.5).softmax(dim=-1)\n",
    "\n",
    "        out = attn_weights @ v\n",
    "        return out"
   ]
  },
  {
   "cell_type": "code",
   "execution_count": 155,
   "metadata": {},
   "outputs": [
    {
     "data": {
      "text/plain": [
       "tensor([[0.3755, 0.2777],\n",
       "        [0.3761, 0.2831],\n",
       "        [0.3761, 0.2833],\n",
       "        [0.3768, 0.2763],\n",
       "        [0.3754, 0.2836],\n",
       "        [0.3772, 0.2746]], grad_fn=<MmBackward0>)"
      ]
     },
     "execution_count": 155,
     "metadata": {},
     "output_type": "execute_result"
    }
   ],
   "source": [
    "torch.manual_seed(42)\n",
    "attn_v2 = SelfAttention_v2(3, 2)\n",
    "attn_v2(inputs)"
   ]
  },
  {
   "cell_type": "markdown",
   "metadata": {},
   "source": [
    "#### **Causal Attention**\n"
   ]
  },
  {
   "cell_type": "code",
   "execution_count": 186,
   "metadata": {},
   "outputs": [],
   "source": [
    "class CausalSelfAttention(nn.Module):\n",
    "    \"\"\"Decoder Only Attention\"\"\"\n",
    "    def __init__(self, d_in:int, d_out:int, bias=False):\n",
    "        super().__init__()\n",
    "        self.W_query = nn.Linear(d_in, d_out, bias=bias)\n",
    "        self.W_key = nn.Linear(d_in, d_out, bias=bias)\n",
    "        self.W_value = nn.Linear(d_in, d_out, bias=bias)\n",
    "    \n",
    "    def forward(self, x:torch.Tensor):\n",
    "        q: torch.Tensor = self.W_query(x)\n",
    "        k: torch.Tensor = self.W_key(x)\n",
    "        v: torch.Tensor = self.W_value(x)\n",
    "\n",
    "        # compute attn scores\n",
    "        attn_scores = q @ k.T\n",
    "\n",
    "        # Since we can only attend to what is previously shown\n",
    "        attn_mask = ~torch.ones(attn_scores.shape).tril().bool()\n",
    "        # We need to now mask with (-inf) so softmax only deals with what we have\n",
    "        masked_attn = attn_scores.masked_fill(attn_mask, -torch.inf)\n",
    "        # Now scaled norm\n",
    "        attn_weights = (masked_attn * k.shape[1]**-0.5).softmax(dim=-1)\n",
    "\n",
    "        out = attn_weights @ v\n",
    "        return out\n",
    "\n",
    "\n"
   ]
  },
  {
   "cell_type": "code",
   "execution_count": 187,
   "metadata": {},
   "outputs": [
    {
     "data": {
      "text/plain": [
       "tensor([[0.4429, 0.1077],\n",
       "        [0.4656, 0.2597],\n",
       "        [0.4732, 0.3030],\n",
       "        [0.4135, 0.2921],\n",
       "        [0.4078, 0.2567],\n",
       "        [0.3772, 0.2746]], grad_fn=<MmBackward0>)"
      ]
     },
     "execution_count": 187,
     "metadata": {},
     "output_type": "execute_result"
    }
   ],
   "source": [
    "torch.manual_seed(42)\n",
    "attn_v3 = CausalSelfAttention(3,2)\n",
    "attn_v3(inputs)\n"
   ]
  },
  {
   "cell_type": "markdown",
   "metadata": {},
   "source": [
    "**Add in Dropout & Make it more compact**\n"
   ]
  },
  {
   "cell_type": "code",
   "execution_count": 235,
   "metadata": {},
   "outputs": [],
   "source": [
    "class CausalAttention(nn.Module):\n",
    "    \"\"\"Decoder Only Attention\"\"\"\n",
    "    def __init__(self, d_in:int, d_out:int, context_length:int, dropout:float, bias=False):\n",
    "        super().__init__()\n",
    "        self.d_out = d_out\n",
    "        self.W_query = nn.Linear(d_in, d_out, bias=bias)\n",
    "        self.W_key = nn.Linear(d_in, d_out, bias=bias)\n",
    "        self.W_value = nn.Linear(d_in, d_out, bias=bias)\n",
    "        self.dropout = nn.Dropout(dropout) \n",
    "        # this is really a mask but GPT-2 and hf have buffer\n",
    "        self.register_buffer('mask', torch.triu(torch.ones(context_length, context_length), diagonal=1))\n",
    "\n",
    "    def forward(self, x:torch.Tensor):\n",
    "        # create dimensions\n",
    "        _, num_tokens, _ = x.shape # (B, tokens, )\n",
    "        print(num_tokens)\n",
    "        q: torch.Tensor = self.W_query(x)\n",
    "        k: torch.Tensor = self.W_key(x)\n",
    "        v: torch.Tensor = self.W_value(x)\n",
    "\n",
    "        # compute attn scores\n",
    "        attn_scores = q @ k.transpose(1,2)\n",
    "\n",
    "        # New, _ ops are in-place\n",
    "        # `:num_tokens` to account for cases where the number of tokens in the batch is smaller than the supported context_size\n",
    "        attn_scores.masked_fill_(self.mask.bool()[:num_tokens, :num_tokens], -torch.inf)  \n",
    "\n",
    "        attn_weights = torch.softmax(attn_scores * keys.size(-1)**-0.5, dim=-1)\n",
    "\n",
    "        attn_weights = self.dropout(attn_weights)\n",
    "\n",
    "        out = attn_weights @ v\n",
    "        return out\n"
   ]
  },
  {
   "cell_type": "code",
   "execution_count": 242,
   "metadata": {},
   "outputs": [
    {
     "name": "stdout",
     "output_type": "stream",
     "text": [
      "tensor([[-0.1690,  0.9178,  1.5810],\n",
      "        [ 1.3010,  1.2753, -0.2010],\n",
      "        [-0.1606, -0.4015, -0.4845],\n",
      "        [-2.0929, -0.8199, -0.4210],\n",
      "        [-0.9620,  1.2825,  0.8768],\n",
      "        [ 1.6221, -0.9887, -1.7018],\n",
      "        [-0.7498, -1.1285,  0.4135],\n",
      "        [ 0.2892,  2.2473, -0.8036]])\n"
     ]
    },
    {
     "data": {
      "text/plain": [
       "torch.Size([2, 8, 3])"
      ]
     },
     "execution_count": 242,
     "metadata": {},
     "output_type": "execute_result"
    }
   ],
   "source": [
    "# set an example number of tokens\n",
    "token_count = 12\n",
    "inputs = torch.randn((token_count, 3))\n",
    "print(inputs)\n",
    "\n",
    "batch = torch.stack((inputs, inputs), dim=0)\n",
    "batch.shape"
   ]
  },
  {
   "cell_type": "code",
   "execution_count": 243,
   "metadata": {},
   "outputs": [
    {
     "name": "stdout",
     "output_type": "stream",
     "text": [
      "8\n",
      "tensor([[[-0.5738,  0.2126],\n",
      "         [-0.8129, -0.2973],\n",
      "         [-0.3854, -0.1730],\n",
      "         [ 0.4671,  0.1153],\n",
      "         [ 0.0364, -0.0357],\n",
      "         [ 0.0048, -0.0990],\n",
      "         [ 0.0583,  0.0115],\n",
      "         [ 0.1006, -0.1558]],\n",
      "\n",
      "        [[-0.5738,  0.2126],\n",
      "         [-0.8129, -0.2973],\n",
      "         [-0.3854, -0.1730],\n",
      "         [ 0.4671,  0.1153],\n",
      "         [ 0.0364, -0.0357],\n",
      "         [ 0.0048, -0.0990],\n",
      "         [ 0.0583,  0.0115],\n",
      "         [ 0.1006, -0.1558]]], grad_fn=<UnsafeViewBackward0>)\n",
      "context_vecs.shape: torch.Size([2, 8, 2])\n"
     ]
    }
   ],
   "source": [
    "torch.manual_seed(123)\n",
    "\n",
    "context_length = batch.shape[1]\n",
    "ca = CausalAttention(d_in, d_out, context_length, 0.0)\n",
    "\n",
    "context_vecs = ca(batch)\n",
    "\n",
    "print(context_vecs)\n",
    "print(\"context_vecs.shape:\", context_vecs.shape)"
   ]
  },
  {
   "cell_type": "markdown",
   "metadata": {},
   "source": [
    "#### **Multi-head Attention**\n"
   ]
  }
 ],
 "metadata": {
  "kernelspec": {
   "display_name": "gpt-env",
   "language": "python",
   "name": "python3"
  },
  "language_info": {
   "codemirror_mode": {
    "name": "ipython",
    "version": 3
   },
   "file_extension": ".py",
   "mimetype": "text/x-python",
   "name": "python",
   "nbconvert_exporter": "python",
   "pygments_lexer": "ipython3",
   "version": "3.12.3"
  }
 },
 "nbformat": 4,
 "nbformat_minor": 2
}
