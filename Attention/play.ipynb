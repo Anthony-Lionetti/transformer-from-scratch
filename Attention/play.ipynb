{
 "cells": [
  {
   "cell_type": "code",
   "execution_count": 1,
   "metadata": {},
   "outputs": [],
   "source": [
    "import torch\n",
    "import torch.nn as nn"
   ]
  },
  {
   "cell_type": "markdown",
   "metadata": {},
   "source": [
    "#### **Simplified Self-Attention**\n"
   ]
  },
  {
   "cell_type": "code",
   "execution_count": 2,
   "metadata": {},
   "outputs": [],
   "source": [
    "inputs = torch.tensor(\n",
    "  [[0.43, 0.15, 0.89], # Your     (x^1)\n",
    "   [0.55, 0.87, 0.66], # journey  (x^2)\n",
    "   [0.57, 0.85, 0.64], # starts   (x^3)\n",
    "   [0.22, 0.58, 0.33], # with     (x^4)\n",
    "   [0.77, 0.25, 0.10], # one      (x^5)\n",
    "   [0.05, 0.80, 0.55]] # step     (x^6)\n",
    ")"
   ]
  },
  {
   "cell_type": "markdown",
   "metadata": {},
   "source": [
    "**Single Input Attention Calculation**\n"
   ]
  },
  {
   "cell_type": "code",
   "execution_count": 8,
   "metadata": {},
   "outputs": [
    {
     "data": {
      "text/plain": [
       "tensor([0.9544, 1.4950, 1.4754, 0.8434, 0.7070, 1.0865])"
      ]
     },
     "execution_count": 8,
     "metadata": {},
     "output_type": "execute_result"
    }
   ],
   "source": [
    "query = inputs[1] # Getting the second row, or the features of the token \"journey\"\n",
    "\n",
    "attn_scores_2 = torch.empty(inputs.shape[0])\n",
    "\n",
    "# loop through the tokens in the sequence\n",
    "for i, x_i in enumerate(inputs):\n",
    "    # take the dot product of each token embedding vector\n",
    "    attn_scores_2[i] = torch.dot(x_i, query)\n",
    "    \n",
    "    # Dot Product example:\n",
    "    # torch.Tensor([1,2,3,4,5]).dot(torch.Tensor([2,1,2,1,2]))\n",
    "    # (1*2)+(2*1)+(3*2)+(4*1)+(5*2) = tensor(24.)\n",
    "\n",
    "attn_scores_2\n"
   ]
  },
  {
   "cell_type": "code",
   "execution_count": 19,
   "metadata": {},
   "outputs": [
    {
     "name": "stdout",
     "output_type": "stream",
     "text": [
      "Unnormailzed: tensor([0.9544, 1.4950, 1.4754, 0.8434, 0.7070, 1.0865])\n",
      "Normailzed: tensor([0.1455, 0.2278, 0.2249, 0.1285, 0.1077, 0.1656])\n"
     ]
    }
   ],
   "source": [
    "# Normalize the attention scores\n",
    "attn_scores_norm = attn_scores_2 / torch.sum(attn_scores_2)\n",
    "print(f\"Unnormailzed: {attn_scores_2}\")\n",
    "print(f\"Normailzed: {attn_scores_norm}\")"
   ]
  },
  {
   "cell_type": "code",
   "execution_count": 30,
   "metadata": {},
   "outputs": [
    {
     "name": "stdout",
     "output_type": "stream",
     "text": [
      "tensor([0.1385, 0.2379, 0.2333, 0.1240, 0.1082, 0.1581])\n",
      "tensor([0.1385, 0.2379, 0.2333, 0.1240, 0.1082, 0.1581])\n"
     ]
    }
   ],
   "source": [
    "# But softmax is more desireable for normalization\n",
    "# Do note that there are underflow and overflow issues that come from this softmax implementation\n",
    "print(attn_scores_2.exp() / attn_scores_2.exp().sum())\n",
    "\n",
    "# This softmax implementation is preffered.\n",
    "print(attn_scores_2.softmax(dim=0))"
   ]
  },
  {
   "cell_type": "code",
   "execution_count": 46,
   "metadata": {},
   "outputs": [
    {
     "data": {
      "text/plain": [
       "tensor([0.4419, 0.6515, 0.5683])"
      ]
     },
     "execution_count": 46,
     "metadata": {},
     "output_type": "execute_result"
    }
   ],
   "source": [
    "# calculate the updated embeddings\n",
    "inputs.T @ attn_scores_2.softmax(dim=0)"
   ]
  },
  {
   "cell_type": "markdown",
   "metadata": {},
   "source": [
    "**Full Attention Calculation**\n"
   ]
  },
  {
   "cell_type": "code",
   "execution_count": 100,
   "metadata": {},
   "outputs": [],
   "source": [
    "# Get the attention scores for the query\n",
    "attn_scores = inputs @ inputs.T\n",
    "\n",
    "# normalize w/ softmax\n",
    "attn_weights = attn_scores.softmax(dim=-1)"
   ]
  },
  {
   "cell_type": "code",
   "execution_count": 101,
   "metadata": {},
   "outputs": [
    {
     "data": {
      "text/plain": [
       "tensor([[0.4421, 0.5931, 0.5790],\n",
       "        [0.4419, 0.6515, 0.5683],\n",
       "        [0.4431, 0.6496, 0.5671],\n",
       "        [0.4304, 0.6298, 0.5510],\n",
       "        [0.4671, 0.5910, 0.5266],\n",
       "        [0.4177, 0.6503, 0.5645]])"
      ]
     },
     "execution_count": 101,
     "metadata": {},
     "output_type": "execute_result"
    }
   ],
   "source": [
    "# Compute vectors\n",
    "attn_weights @ inputs"
   ]
  },
  {
   "cell_type": "markdown",
   "metadata": {},
   "source": [
    "#### **Self-Attention**\n"
   ]
  },
  {
   "cell_type": "code",
   "execution_count": 103,
   "metadata": {},
   "outputs": [],
   "source": [
    "x_2 = inputs[1] # second input token\n",
    "d_in = inputs.shape[1] # The input embedding size, d=3\n",
    "d_out = 2 # the output embedding size"
   ]
  },
  {
   "cell_type": "code",
   "execution_count": 133,
   "metadata": {},
   "outputs": [],
   "source": [
    "torch.manual_seed(42)\n",
    "# We will use three matricies to project the embedded tokens, into:\n",
    "# query vector: What we are \"interested in\"\n",
    "W_query = nn.Parameter(torch.randn(d_in, d_out), requires_grad=False)\n",
    "# key vector: What we have\n",
    "W_key = nn.Parameter(torch.randn(d_in, d_out), requires_grad=False)\n",
    "# Value vector: what information to communicate if it is \"interesting\"\n",
    "W_value = nn.Parameter(torch.randn(d_in, d_out), requires_grad=False)"
   ]
  },
  {
   "cell_type": "code",
   "execution_count": 134,
   "metadata": {},
   "outputs": [],
   "source": [
    "query = inputs @ W_query\n",
    "keys = inputs @ W_key\n",
    "values = inputs @ W_value"
   ]
  },
  {
   "cell_type": "code",
   "execution_count": 135,
   "metadata": {},
   "outputs": [],
   "source": [
    "qk_attn = query @ keys.T"
   ]
  },
  {
   "cell_type": "code",
   "execution_count": 136,
   "metadata": {},
   "outputs": [],
   "source": [
    "# using the key dimension\n",
    "d_k = keys.shape[1]\n",
    "# divide by sqrt if embedding dimension for scalling\n",
    "# And apply softmax\n",
    "qk_norm = (qk_attn * d_k**-0.5).softmax(dim=-1)"
   ]
  },
  {
   "cell_type": "code",
   "execution_count": 138,
   "metadata": {},
   "outputs": [
    {
     "data": {
      "text/plain": [
       "tensor([[0.1596, 0.1217, 0.1202, 0.2238, 0.1343, 0.2405],\n",
       "        [0.1686, 0.1487, 0.1473, 0.1899, 0.1408, 0.2047],\n",
       "        [0.1688, 0.1501, 0.1487, 0.1882, 0.1417, 0.2024],\n",
       "        [0.1686, 0.1590, 0.1581, 0.1772, 0.1523, 0.1848],\n",
       "        [0.1690, 0.1798, 0.1798, 0.1526, 0.1645, 0.1543],\n",
       "        [0.1670, 0.1448, 0.1435, 0.1945, 0.1422, 0.2080]])"
      ]
     },
     "execution_count": 138,
     "metadata": {},
     "output_type": "execute_result"
    }
   ],
   "source": [
    "qk_norm"
   ]
  },
  {
   "cell_type": "code",
   "execution_count": 137,
   "metadata": {},
   "outputs": [
    {
     "data": {
      "text/plain": [
       "tensor([[0.5141, 0.3639],\n",
       "        [0.5633, 0.3251],\n",
       "        [0.5659, 0.3221],\n",
       "        [0.5839, 0.2941],\n",
       "        [0.6180, 0.2539],\n",
       "        [0.5575, 0.3262]])"
      ]
     },
     "execution_count": 137,
     "metadata": {},
     "output_type": "execute_result"
    }
   ],
   "source": [
    "qk_norm @ values"
   ]
  },
  {
   "cell_type": "markdown",
   "metadata": {},
   "source": [
    "**Putting it all together**\n"
   ]
  },
  {
   "cell_type": "code",
   "execution_count": 150,
   "metadata": {},
   "outputs": [],
   "source": [
    "class SelfAttention_v1(nn.Module):\n",
    "    def __init__(self, d_in, d_out):\n",
    "        super().__init__()\n",
    "        self.W_query = nn.Parameter(torch.randn(d_in, d_out))\n",
    "        self.W_key = nn.Parameter(torch.randn(d_in, d_out))\n",
    "        self.W_value = nn.Parameter(torch.randn(d_in, d_out))\n",
    "    \n",
    "    def forward(self, x:torch.Tensor):\n",
    "        q = x @ self.W_query\n",
    "        k = x @ self.W_key\n",
    "        v = x @ self.W_value\n",
    "\n",
    "        # multiply query and keys\n",
    "        attn_scores = q @ k.T\n",
    "\n",
    "        # Scaled normalization\n",
    "        d_k = k.shape[1]\n",
    "        attn_weights = (attn_scores * d_k**-0.5).softmax(dim=-1)\n",
    "\n",
    "        # qk normalized matmul values to get output\n",
    "        out = attn_weights @ v\n",
    "        return out"
   ]
  },
  {
   "cell_type": "code",
   "execution_count": 151,
   "metadata": {},
   "outputs": [
    {
     "data": {
      "text/plain": [
       "tensor([[0.5141, 0.3639],\n",
       "        [0.5633, 0.3251],\n",
       "        [0.5659, 0.3221],\n",
       "        [0.5839, 0.2941],\n",
       "        [0.6180, 0.2539],\n",
       "        [0.5575, 0.3262]], grad_fn=<MmBackward0>)"
      ]
     },
     "execution_count": 151,
     "metadata": {},
     "output_type": "execute_result"
    }
   ],
   "source": [
    "torch.manual_seed(42)\n",
    "self_attn = SelfAttention_v1(3, 2)\n",
    "\n",
    "self_attn(inputs)"
   ]
  },
  {
   "cell_type": "code",
   "execution_count": 154,
   "metadata": {},
   "outputs": [],
   "source": [
    "class SelfAttention_v2(nn.Module):\n",
    "    \"\"\"Implementation using nn.Linear instead of matrix multiplication\"\"\"\n",
    "    def __init__(self, d_in, d_out, bias=False):\n",
    "        super().__init__()\n",
    "        self.W_query = nn.Linear(d_in, d_out, bias=bias)\n",
    "        self.W_keys = nn.Linear(d_in, d_out, bias=bias)\n",
    "        self.W_value = nn.Linear(d_in, d_out, bias=bias)\n",
    "    \n",
    "    def forward(self, x:torch.Tensor):\n",
    "        q = self.W_query(x)\n",
    "        k = self.W_keys(x)\n",
    "        v = self.W_value(x)\n",
    "\n",
    "        # mul q & k\n",
    "        attn_scores = q @ k.T\n",
    "        \n",
    "        # normalize\n",
    "        attn_weights = (attn_scores * k.shape[1]**-0.5).softmax(dim=-1)\n",
    "\n",
    "        out = attn_weights @ v\n",
    "        return out"
   ]
  },
  {
   "cell_type": "code",
   "execution_count": 155,
   "metadata": {},
   "outputs": [
    {
     "data": {
      "text/plain": [
       "tensor([[0.3755, 0.2777],\n",
       "        [0.3761, 0.2831],\n",
       "        [0.3761, 0.2833],\n",
       "        [0.3768, 0.2763],\n",
       "        [0.3754, 0.2836],\n",
       "        [0.3772, 0.2746]], grad_fn=<MmBackward0>)"
      ]
     },
     "execution_count": 155,
     "metadata": {},
     "output_type": "execute_result"
    }
   ],
   "source": [
    "torch.manual_seed(42)\n",
    "attn_v2 = SelfAttention_v2(3, 2)\n",
    "attn_v2(inputs)"
   ]
  },
  {
   "cell_type": "markdown",
   "metadata": {},
   "source": [
    "#### **Causal Attention**\n"
   ]
  },
  {
   "cell_type": "code",
   "execution_count": 186,
   "metadata": {},
   "outputs": [],
   "source": [
    "class CausalSelfAttention(nn.Module):\n",
    "    \"\"\"Decoder Only Attention\"\"\"\n",
    "    def __init__(self, d_in:int, d_out:int, bias=False):\n",
    "        super().__init__()\n",
    "        self.W_query = nn.Linear(d_in, d_out, bias=bias)\n",
    "        self.W_key = nn.Linear(d_in, d_out, bias=bias)\n",
    "        self.W_value = nn.Linear(d_in, d_out, bias=bias)\n",
    "    \n",
    "    def forward(self, x:torch.Tensor):\n",
    "        q: torch.Tensor = self.W_query(x)\n",
    "        k: torch.Tensor = self.W_key(x)\n",
    "        v: torch.Tensor = self.W_value(x)\n",
    "\n",
    "        # compute attn scores\n",
    "        attn_scores = q @ k.T\n",
    "\n",
    "        # Since we can only attend to what is previously shown\n",
    "        attn_mask = ~torch.ones(attn_scores.shape).tril().bool()\n",
    "        # We need to now mask with (-inf) so softmax only deals with what we have\n",
    "        masked_attn = attn_scores.masked_fill(attn_mask, -torch.inf)\n",
    "        # Now scaled norm\n",
    "        attn_weights = (masked_attn * k.shape[1]**-0.5).softmax(dim=-1)\n",
    "\n",
    "        out = attn_weights @ v\n",
    "        return out\n",
    "\n",
    "\n"
   ]
  },
  {
   "cell_type": "code",
   "execution_count": 187,
   "metadata": {},
   "outputs": [
    {
     "data": {
      "text/plain": [
       "tensor([[0.4429, 0.1077],\n",
       "        [0.4656, 0.2597],\n",
       "        [0.4732, 0.3030],\n",
       "        [0.4135, 0.2921],\n",
       "        [0.4078, 0.2567],\n",
       "        [0.3772, 0.2746]], grad_fn=<MmBackward0>)"
      ]
     },
     "execution_count": 187,
     "metadata": {},
     "output_type": "execute_result"
    }
   ],
   "source": [
    "torch.manual_seed(42)\n",
    "attn_v3 = CausalSelfAttention(3,2)\n",
    "attn_v3(inputs)\n"
   ]
  },
  {
   "cell_type": "markdown",
   "metadata": {},
   "source": [
    "**Add in Dropout & Make it more compact**\n"
   ]
  },
  {
   "cell_type": "code",
   "execution_count": 255,
   "metadata": {},
   "outputs": [],
   "source": [
    "class CausalAttention(nn.Module):\n",
    "    \"\"\"Decoder Only Attention\"\"\"\n",
    "    def __init__(self, d_in:int, d_out:int, context_length:int, dropout:float, bias=False):\n",
    "        super().__init__()\n",
    "        self.d_out = d_out\n",
    "        self.W_query = nn.Linear(d_in, d_out, bias=bias)\n",
    "        self.W_key = nn.Linear(d_in, d_out, bias=bias)\n",
    "        self.W_value = nn.Linear(d_in, d_out, bias=bias)\n",
    "        self.dropout = nn.Dropout(dropout) \n",
    "        # this is really a mask but GPT-2 and hf have buffer\n",
    "        self.register_buffer('mask', torch.triu(torch.ones(context_length, context_length), diagonal=1))\n",
    "\n",
    "    def forward(self, x:torch.Tensor):\n",
    "        # create dimensions\n",
    "        _, num_tokens, _ = x.shape # (B, tokens, )\n",
    "        # print(num_tokens)\n",
    "        q: torch.Tensor = self.W_query(x)\n",
    "        k: torch.Tensor = self.W_key(x)\n",
    "        v: torch.Tensor = self.W_value(x)\n",
    "\n",
    "        # compute attn scores\n",
    "        attn_scores = q @ k.transpose(1,2)\n",
    "\n",
    "        # New, _ ops are in-place\n",
    "        # `:num_tokens` to account for cases where the number of tokens in the batch is smaller than the supported context_size\n",
    "        attn_scores.masked_fill_(self.mask.bool()[:num_tokens, :num_tokens], -torch.inf)  \n",
    "\n",
    "        attn_weights = torch.softmax(attn_scores * keys.size(-1)**-0.5, dim=-1)\n",
    "\n",
    "        attn_weights = self.dropout(attn_weights)\n",
    "\n",
    "        out = attn_weights @ v\n",
    "        return out\n"
   ]
  },
  {
   "cell_type": "code",
   "execution_count": 251,
   "metadata": {},
   "outputs": [
    {
     "name": "stdout",
     "output_type": "stream",
     "text": [
      "tensor([[-0.3885, -0.9343,  1.0533],\n",
      "        [ 0.1388, -0.2044, -2.2685],\n",
      "        [-0.9133, -0.4204,  1.3111],\n",
      "        [-0.2199,  0.1838,  0.2293],\n",
      "        [ 0.6177, -0.2876,  0.8218],\n",
      "        [ 0.1512,  0.1036, -2.1996]])\n"
     ]
    },
    {
     "data": {
      "text/plain": [
       "torch.Size([2, 6, 3])"
      ]
     },
     "execution_count": 251,
     "metadata": {},
     "output_type": "execute_result"
    }
   ],
   "source": [
    "# set an example number of tokens\n",
    "token_count = 6 \n",
    "inputs = torch.randn((token_count, 3))\n",
    "print(inputs)\n",
    "\n",
    "batch = torch.stack((inputs, inputs), dim=0)\n",
    "batch.shape"
   ]
  },
  {
   "cell_type": "code",
   "execution_count": 252,
   "metadata": {},
   "outputs": [
    {
     "name": "stdout",
     "output_type": "stream",
     "text": [
      "6\n",
      "tensor([[[ 0.2944,  0.8538],\n",
      "         [ 0.4221, -0.2458],\n",
      "         [ 0.3523,  0.3993],\n",
      "         [ 0.2727,  0.2175],\n",
      "         [ 0.0894,  0.3412],\n",
      "         [ 0.2619, -0.1882]],\n",
      "\n",
      "        [[ 0.2944,  0.8538],\n",
      "         [ 0.4221, -0.2458],\n",
      "         [ 0.3523,  0.3993],\n",
      "         [ 0.2727,  0.2175],\n",
      "         [ 0.0894,  0.3412],\n",
      "         [ 0.2619, -0.1882]]], grad_fn=<UnsafeViewBackward0>)\n",
      "context_vecs.shape: torch.Size([2, 6, 2])\n"
     ]
    }
   ],
   "source": [
    "torch.manual_seed(123)\n",
    "\n",
    "context_length = batch.shape[1]\n",
    "ca = CausalAttention(d_in, d_out, context_length, 0.0)\n",
    "\n",
    "context_vecs = ca(batch)\n",
    "\n",
    "print(context_vecs)\n",
    "print(\"context_vecs.shape:\", context_vecs.shape)"
   ]
  },
  {
   "cell_type": "markdown",
   "metadata": {},
   "source": [
    "#### **Multi-head Attention**\n",
    "\n",
    "Adding multiple heads is essentially stacking multiple layers of single attention heads.\n",
    "This creates multiple latent spaces, so the model can attend to different to different information.\n"
   ]
  },
  {
   "cell_type": "code",
   "execution_count": 256,
   "metadata": {},
   "outputs": [],
   "source": [
    "class MultiHeadAttentionWrapper(nn.Module):\n",
    "\n",
    "    def __init__(self, d_in:int, d_out:int, context_length:int, dropout:float, num_heads=1, bias=False):\n",
    "        super().__init__()\n",
    "\n",
    "        self.heads = nn.ModuleList(\n",
    "            [CausalAttention(d_in, d_out, context_length, dropout, bias) for _ in range(num_heads)]\n",
    "        )\n",
    "    \n",
    "    def forward(self, x:torch.Tensor):\n",
    "        return torch.cat([head(x) for head in self.heads], dim=-1)"
   ]
  },
  {
   "cell_type": "code",
   "execution_count": 257,
   "metadata": {},
   "outputs": [
    {
     "name": "stdout",
     "output_type": "stream",
     "text": [
      "tensor([[-0.1690,  0.9178, -0.3885],\n",
      "        [-0.9343, -0.4991, -1.0867],\n",
      "        [ 0.9624,  0.2492, -0.4845],\n",
      "        [-2.0929,  0.0983, -0.0935],\n",
      "        [ 0.2662, -0.5850, -0.3430],\n",
      "        [-0.6821, -0.9887, -1.7018]])\n"
     ]
    },
    {
     "data": {
      "text/plain": [
       "torch.Size([2, 6, 3])"
      ]
     },
     "execution_count": 257,
     "metadata": {},
     "output_type": "execute_result"
    }
   ],
   "source": [
    "# set an example number of tokens\n",
    "token_count = 6\n",
    "inputs = torch.randn((token_count, 3))\n",
    "print(inputs)\n",
    "\n",
    "batch = torch.stack((inputs, inputs), dim=0)\n",
    "batch.shape"
   ]
  },
  {
   "cell_type": "code",
   "execution_count": 269,
   "metadata": {},
   "outputs": [
    {
     "name": "stdout",
     "output_type": "stream",
     "text": [
      "tensor([[ 0.3116,  0.5603,  0.0720,  0.4299,  0.6344, -0.1544,  0.1832,  0.2823,\n",
      "          0.0813,  0.5999, -0.2545, -0.1395, -0.3446,  0.2793, -0.1714, -0.0352],\n",
      "        [ 0.3746,  0.2453, -0.4253,  0.0037,  0.5332,  0.0141,  0.3457, -0.0426,\n",
      "         -0.5745,  0.4919,  0.0050, -0.2978,  0.0199,  0.2265, -0.0673, -0.2861],\n",
      "        [ 0.2100,  0.4458, -0.1023,  0.1582,  0.4404,  0.0066,  0.4027, -0.2082,\n",
      "         -0.0324,  0.3846, -0.0236, -0.3122, -0.0088,  0.0382, -0.0439, -0.3194],\n",
      "        [ 0.3731, -0.0134, -0.5013, -0.0939,  0.4094, -0.0367,  0.2778, -0.0520,\n",
      "         -0.6470,  0.3848, -0.0049, -0.1563, -0.0135,  0.2293, -0.0666, -0.1699],\n",
      "        [ 0.2431,  0.0763, -0.3272, -0.0530,  0.2710,  0.0839,  0.2938, -0.1943,\n",
      "         -0.3923,  0.2629,  0.0495, -0.2164,  0.0562,  0.1424, -0.0290, -0.1906],\n",
      "        [ 0.3435, -0.0360, -0.5659, -0.1846,  0.3624, -0.0688,  0.2670, -0.0778,\n",
      "         -0.4533,  0.2617,  0.1422, -0.3615,  0.1821,  0.1153, -0.0007, -0.3660]],\n",
      "       grad_fn=<SliceBackward0>)\n",
      "context_vecs.shape: torch.Size([2, 6, 16])\n"
     ]
    }
   ],
   "source": [
    "torch.manual_seed(123)\n",
    "\n",
    "context_length = batch.shape[1] # This is the number of tokens\n",
    "d_in, d_out = inputs.size(-1), 4\n",
    "mha = MultiHeadAttentionWrapper(\n",
    "    d_in, d_out, context_length, 0.0, num_heads=4\n",
    ")\n",
    "\n",
    "context_vecs = mha(batch)\n",
    "\n",
    "print(context_vecs[0,:,:])\n",
    "print(\"context_vecs.shape:\", context_vecs.shape)"
   ]
  },
  {
   "cell_type": "markdown",
   "metadata": {},
   "source": [
    "**Adding Weight Splits**\n",
    "\n",
    "Instead of creating a module list of attention heads, we instead created one MultiHeaded Attention implementation,\n",
    "where we define one q,k & v weight matrix, and split then to obtain the separate heads.\n"
   ]
  },
  {
   "cell_type": "code",
   "execution_count": 270,
   "metadata": {},
   "outputs": [],
   "source": [
    "class MultiHeadAttention(nn.Module):\n",
    "\n",
    "    def __init__(self, d_in:int, d_out:int, context_length:int, dropout:float, num_heads=1, bias=False):\n",
    "        super().__init__()\n",
    "        assert(d_out % num_heads == 0), \"The output dimension must be divisible by the number of heads\"\n",
    "\n",
    "        self.d_out = d_out\n",
    "        self.num_heads = num_heads\n",
    "        self.head_dim = d_out // num_heads # This reduces the projection dimention to match the desired output.\n",
    "\n",
    "        # Define q, k, v. Remember these...\n",
    "        self.W_query = nn.Linear(d_in, d_out, bias=bias)\n",
    "        self.W_key = nn.Linear(d_in, d_out, bias=bias)\n",
    "        self.W_value = nn.Linear(d_in, d_out, bias=bias)\n",
    "\n",
    "        self.o_proj = nn.Linear(d_out, d_out) # Linear layer to combine head outputs\n",
    "        self.dropout = nn.Dropout(dropout)\n",
    "\n",
    "        # Create mask for decoder block\n",
    "        self.register_buffer(\"mask\", torch.triu(torch.ones(context_length, context_length), diagonal=1))\n",
    "    \n",
    "\n",
    "    def forward(self, x:torch.Tensor):\n",
    "        b, num_tokens, d_in = x.shape\n",
    "\n",
    "        keys = self.W_key(x) # Shape: (b, num_tokens, d_out)\n",
    "        queries = self.W_query(x)\n",
    "        values = self.W_value(x)\n",
    "\n",
    "        # We implicitly split the matrix by adding a `num_heads` dimension\n",
    "        # Unroll last dim: (b, num_tokens, d_out) -> (b, num_tokens, num_heads, head_dim)\n",
    "        keys = keys.view(b, num_tokens, self.num_heads, self.head_dim) \n",
    "        values = values.view(b, num_tokens, self.num_heads, self.head_dim)\n",
    "        queries = queries.view(b, num_tokens, self.num_heads, self.head_dim)\n",
    "\n",
    "        # Compute scaled dot-product attention (aka self-attention) with a causal mask\n",
    "        attn_scores = queries @ keys.transpose(2, 3)  # Dot product for each head\n",
    "\n",
    "        # Original mask truncated to the number of tokens and converted to boolean\n",
    "        mask_bool = self.mask.bool()[:num_tokens, :num_tokens]\n",
    "\n",
    "        # Use the mask to fill attention scores\n",
    "        attn_scores.masked_fill_(mask_bool, -torch.inf)\n",
    "        \n",
    "        attn_weights = torch.softmax(attn_scores / keys.shape[-1]**0.5, dim=-1)\n",
    "        attn_weights = self.dropout(attn_weights)\n",
    "\n",
    "        # Shape: (b, num_tokens, num_heads, head_dim)\n",
    "        context_vec = (attn_weights @ values).transpose(1, 2) \n",
    "        \n",
    "        # Combine heads, where self.d_out = self.num_heads * self.head_dim\n",
    "        context_vec = context_vec.contiguous().view(b, num_tokens, self.d_out)\n",
    "        context_vec = self.out_proj(context_vec) # optional projection\n",
    "\n",
    "        return context_vec"
   ]
  },
  {
   "cell_type": "code",
   "execution_count": 274,
   "metadata": {},
   "outputs": [
    {
     "name": "stdout",
     "output_type": "stream",
     "text": [
      "tensor([[-0.1606, -0.4015, -0.4845],\n",
      "        [-2.0929, -0.8199, -0.4210],\n",
      "        [-0.9620,  1.2825,  0.8768],\n",
      "        [ 1.6221, -0.9887, -1.7018],\n",
      "        [-0.7498, -1.1285,  0.4135],\n",
      "        [ 0.2892,  2.2473, -0.8036]])\n"
     ]
    },
    {
     "data": {
      "text/plain": [
       "torch.Size([2, 6, 3])"
      ]
     },
     "execution_count": 274,
     "metadata": {},
     "output_type": "execute_result"
    }
   ],
   "source": [
    "\n",
    "# set an example number of tokens\n",
    "token_count = 6\n",
    "inputs = torch.randn((token_count, 3))\n",
    "print(inputs)\n",
    "\n",
    "batch = torch.stack((inputs, inputs), dim=0)\n",
    "batch.shape"
   ]
  },
  {
   "cell_type": "code",
   "execution_count": 275,
   "metadata": {},
   "outputs": [
    {
     "name": "stdout",
     "output_type": "stream",
     "text": [
      "tensor([[ 0.0928,  0.0065, -0.3117, -0.1939,  0.0582,  0.1435,  0.3198, -0.4179,\n",
      "         -0.4708,  0.0620,  0.1877, -0.2482,  0.2417, -0.0657,  0.0599, -0.3094],\n",
      "        [ 0.3648, -0.6721, -1.0088, -0.6346, -0.0393,  0.3453,  0.3795, -0.5872,\n",
      "         -1.2055,  0.0749,  0.2064, -0.0673,  0.3268,  0.2618,  0.0416, -0.1495],\n",
      "        [ 0.2763, -0.4179, -0.5787, -0.3014, -0.1499,  0.5634,  0.3281, -0.6037,\n",
      "         -0.5574,  0.1637, -0.1271,  0.2432, -0.0517,  0.4222, -0.0752,  0.2217],\n",
      "        [ 0.2185, -0.1863, -0.3789, -0.1514,  0.0727,  0.1664,  0.0779, -0.0478,\n",
      "         -0.2971,  0.1395,  0.3470, -0.6590,  0.1720,  0.0974,  0.0172, -0.1974],\n",
      "        [ 0.1482, -0.4734, -0.4635, -0.3274, -0.0259,  0.1764,  0.1157, -0.1898,\n",
      "         -0.8554, -0.0261,  0.2361, -0.1326,  0.2441,  0.0483,  0.0547, -0.1571],\n",
      "        [ 0.1668,  0.7374,  0.0127,  0.2508, -0.0969,  0.3478,  0.3665, -0.6184,\n",
      "          0.2565,  0.6251, -0.3679, -0.0152, -0.1581,  0.1714, -0.0993, -0.1328]],\n",
      "       grad_fn=<SliceBackward0>)\n",
      "context_vecs.shape: torch.Size([2, 6, 16])\n"
     ]
    }
   ],
   "source": [
    "torch.manual_seed(123)\n",
    "\n",
    "context_length = batch.shape[1] # This is the number of tokens\n",
    "d_in, d_out = inputs.size(-1), 4\n",
    "mha = MultiHeadAttentionWrapper(\n",
    "    d_in, d_out, context_length, 0.0, num_heads=4\n",
    ")\n",
    "\n",
    "context_vecs = mha(batch)\n",
    "\n",
    "print(context_vecs[0,:,:])\n",
    "print(\"context_vecs.shape:\", context_vecs.shape)"
   ]
  }
 ],
 "metadata": {
  "kernelspec": {
   "display_name": "gpt-env",
   "language": "python",
   "name": "python3"
  },
  "language_info": {
   "codemirror_mode": {
    "name": "ipython",
    "version": 3
   },
   "file_extension": ".py",
   "mimetype": "text/x-python",
   "name": "python",
   "nbconvert_exporter": "python",
   "pygments_lexer": "ipython3",
   "version": "3.12.3"
  }
 },
 "nbformat": 4,
 "nbformat_minor": 2
}
