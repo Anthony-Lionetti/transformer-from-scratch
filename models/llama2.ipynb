{
 "cells": [
  {
   "cell_type": "markdown",
   "metadata": {},
   "source": [
    "## Implementing Llama2 3B\n"
   ]
  },
  {
   "cell_type": "code",
   "execution_count": 3,
   "metadata": {},
   "outputs": [],
   "source": [
    "import torch\n",
    "import torch.nn as nn\n",
    "from dataclasses import dataclass"
   ]
  },
  {
   "cell_type": "markdown",
   "metadata": {},
   "source": [
    "### **Normalization**\n",
    "\n",
    "One of the main divergences from the original GPT transformer architecture is the normalization technique. The purpose of normalization is to recenter the model weights and inputs to help stablize training and boost model convergence.\n",
    "\n",
    "Traditional **LayerNorm** normalizes the layers using the mean of variance across the feature dimension. There are three hyperparameters $\\epsilon$, setting a floor for the fraction denominator, $\\gamma$ a learnable scaling parameter and $\\beta$ applying a learnable shift parameter.\n",
    "$$y=\\frac{x-E[x]}{\\sqrt{Var(x) + \\epsilon}} * \\gamma + \\beta$$\n",
    "\n",
    "In the LLama2 architecture, **RMSNorm** is used (root mean square normalization). The main benefit of using RMSNorm is that it is more efficient than LayerNorm and it's performance decreases are neglible in practice. Notably, the hyperparameter $\\beta$ is not used in RMSNorm\n",
    "\n",
    "$$y_i=\\frac{x_i}{\\sqrt{\\epsilon +\\frac{1}{n}\\sum{x_i^2}}}*\\gamma_i$$\n"
   ]
  },
  {
   "cell_type": "code",
   "execution_count": 21,
   "metadata": {},
   "outputs": [],
   "source": [
    "class RMSNorm(nn.Module):\n",
    "    def __init__(self, embd_dim:int, eps=1e-5):\n",
    "        super().__init__()\n",
    "        self.eps = eps # epsilon\n",
    "        self.embd_dim = embd_dim\n",
    "        self.weight = nn.Parameter(torch.ones(embd_dim)).float()\n",
    "    \n",
    "    def forward(self, x:torch.Tensor):\n",
    "        means = x.pow(2).mean(dim=-1, keepdim=True)\n",
    "        x_norm = x * torch.rsqrt(means + self.eps)\n",
    "        return (x_norm * self.weight).to(dtype=x.dtype)"
   ]
  },
  {
   "cell_type": "markdown",
   "metadata": {},
   "source": [
    "##### Forward Pass Step Through\n"
   ]
  },
  {
   "cell_type": "code",
   "execution_count": 22,
   "metadata": {},
   "outputs": [
    {
     "data": {
      "text/plain": [
       "tensor([[0.0189, 0.5897, 0.3435, 0.6396, 0.5835, 0.6628, 0.8831, 0.2713],\n",
       "        [0.7535, 0.1432, 0.0761, 0.6367, 0.8376, 0.4416, 0.8005, 0.3437],\n",
       "        [0.9414, 0.9058, 0.2968, 0.6923, 0.4357, 0.1979, 0.1784, 0.7046],\n",
       "        [0.1627, 0.2033, 0.6560, 0.0777, 0.2667, 0.8596, 0.5893, 0.6754]])"
      ]
     },
     "execution_count": 22,
     "metadata": {},
     "output_type": "execute_result"
    }
   ],
   "source": [
    "inputs = torch.rand((4, 8))\n",
    "rmsn = RMSNorm(embd_dim=8)\n",
    "inputs"
   ]
  },
  {
   "cell_type": "code",
   "execution_count": 23,
   "metadata": {},
   "outputs": [
    {
     "data": {
      "text/plain": [
       "tensor([3.9924, 4.0329, 4.3529, 3.4907])"
      ]
     },
     "execution_count": 23,
     "metadata": {},
     "output_type": "execute_result"
    }
   ],
   "source": [
    "# Current unnormalized sum\n",
    "inputs.sum(dim=-1)"
   ]
  },
  {
   "cell_type": "code",
   "execution_count": 24,
   "metadata": {},
   "outputs": [
    {
     "data": {
      "text/plain": [
       "tensor([[0.3135],\n",
       "        [0.3319],\n",
       "        [0.3789],\n",
       "        [0.2647]])"
      ]
     },
     "execution_count": 24,
     "metadata": {},
     "output_type": "execute_result"
    }
   ],
   "source": [
    "# Take the mean along the feature dimension\n",
    "inputs_mean = inputs.pow(2).mean(dim=1, keepdim=True)\n",
    "inputs_mean"
   ]
  },
  {
   "cell_type": "code",
   "execution_count": 25,
   "metadata": {},
   "outputs": [
    {
     "data": {
      "text/plain": [
       "tensor([[0.5600],\n",
       "        [0.5761],\n",
       "        [0.6156],\n",
       "        [0.5145]])"
      ]
     },
     "execution_count": 25,
     "metadata": {},
     "output_type": "execute_result"
    }
   ],
   "source": [
    "# Add epsilon and take sqrt\n",
    "torch.sqrt(inputs_mean + rmsn.eps)"
   ]
  },
  {
   "cell_type": "code",
   "execution_count": 26,
   "metadata": {},
   "outputs": [
    {
     "data": {
      "text/plain": [
       "tensor([[1.7858],\n",
       "        [1.7359],\n",
       "        [1.6245],\n",
       "        [1.9436]])"
      ]
     },
     "execution_count": 26,
     "metadata": {},
     "output_type": "execute_result"
    }
   ],
   "source": [
    "# But since we have x / RMS(x) lets take the reciprocal root\n",
    "torch.rsqrt(inputs_mean + rmsn.eps)"
   ]
  },
  {
   "cell_type": "code",
   "execution_count": 27,
   "metadata": {},
   "outputs": [
    {
     "data": {
      "text/plain": [
       "tensor([[0.0337, 1.0531, 0.6135, 1.1422, 1.0420, 1.1836, 1.5770, 0.4846],\n",
       "        [1.3081, 0.2486, 0.1322, 1.1052, 1.4539, 0.7665, 1.3895, 0.5966],\n",
       "        [1.5292, 1.4715, 0.4822, 1.1246, 0.7078, 0.3215, 0.2898, 1.1447],\n",
       "        [0.3161, 0.3952, 1.2751, 0.1509, 0.5183, 1.6706, 1.1454, 1.3128]])"
      ]
     },
     "execution_count": 27,
     "metadata": {},
     "output_type": "execute_result"
    }
   ],
   "source": [
    "# now multiply by the numerator x (inputs in this case) \n",
    "inputs_norm = inputs * torch.rsqrt(inputs_mean + rmsn.eps)\n",
    "inputs_norm"
   ]
  },
  {
   "cell_type": "code",
   "execution_count": 28,
   "metadata": {},
   "outputs": [
    {
     "data": {
      "text/plain": [
       "tensor([[0.0337, 1.0531, 0.6135, 1.1422, 1.0420, 1.1836, 1.5770, 0.4846],\n",
       "        [1.3081, 0.2486, 0.1322, 1.1052, 1.4539, 0.7665, 1.3895, 0.5966],\n",
       "        [1.5292, 1.4715, 0.4822, 1.1246, 0.7078, 0.3215, 0.2898, 1.1447],\n",
       "        [0.3161, 0.3952, 1.2751, 0.1509, 0.5183, 1.6706, 1.1454, 1.3128]],\n",
       "       grad_fn=<MulBackward0>)"
      ]
     },
     "execution_count": 28,
     "metadata": {},
     "output_type": "execute_result"
    }
   ],
   "source": [
    "# Finally, multiply by gamma_i, which are the learnable weights\n",
    "inputs_norm * rmsn.weight"
   ]
  },
  {
   "cell_type": "code",
   "execution_count": 29,
   "metadata": {},
   "outputs": [
    {
     "data": {
      "text/plain": [
       "tensor([[0.0337, 1.0531, 0.6135, 1.1422, 1.0420, 1.1836, 1.5770, 0.4846],\n",
       "        [1.3081, 0.2486, 0.1322, 1.1052, 1.4539, 0.7665, 1.3895, 0.5966],\n",
       "        [1.5292, 1.4715, 0.4822, 1.1246, 0.7078, 0.3215, 0.2898, 1.1447],\n",
       "        [0.3161, 0.3952, 1.2751, 0.1509, 0.5183, 1.6706, 1.1454, 1.3128]],\n",
       "       grad_fn=<MulBackward0>)"
      ]
     },
     "execution_count": 29,
     "metadata": {},
     "output_type": "execute_result"
    }
   ],
   "source": [
    "rms = RMSNorm(inputs.size(-1))\n",
    "rms.forward(inputs)"
   ]
  },
  {
   "cell_type": "markdown",
   "metadata": {},
   "source": [
    "### **Activation Functions**\n",
    "\n",
    "Activation functions are non-linear functions connection linear layers in a neural network. Without the non-linear connection neural networks would only learn linear relationships. For example, if I have two matrices - without the activation function of course - and multiply them together, the output matrix would be equivalent to the first two layers, meaning the two layers would collapse into one.\n",
    "\n",
    "There are a variety of activation functions, a simple one being ReLU which essentially clips any negative number to 0, leaving the positive numbers be. This became popular as it helps to circumvent the _vanishing gradients_ issue in NN weights. Recently modern activation functions like GeLU and SiLU, which have smoother approximations, perform better than ReLU. The smoothness in these modern activtation functions allow for more nuanced learning since any negative number isn't immediately cuttoff to 0, like ReLU.\n",
    "\n",
    "Llama 2 uses **SwiLU** or a Gate linear unit variant of sigmoid-weighted linear units.\n",
    "\n",
    "**SiLU**\n",
    "\n",
    "$$silu(x) = x * \\sigma(x)$$\n",
    "\n",
    "**SwiGLU**\n",
    "\n",
    "$$SwiGLU(x) = SiLU(Linear_1(x)) * Linear_2(x)$$\n",
    "\n",
    "Using PyTorch, SiLU is simply implemented below\n"
   ]
  },
  {
   "cell_type": "code",
   "execution_count": 19,
   "metadata": {},
   "outputs": [
    {
     "data": {
      "text/plain": [
       "SiLU()"
      ]
     },
     "execution_count": 19,
     "metadata": {},
     "output_type": "execute_result"
    }
   ],
   "source": [
    "nn.SiLU()"
   ]
  },
  {
   "cell_type": "markdown",
   "metadata": {},
   "source": [
    "### **Feed Forward Layer**\n",
    "\n",
    "The feed forward layer is where the network gets to \"think about\" each token individually.\n",
    "\n",
    "In the feed forward network, Llama 2 uses **SwiLU** or a Gate linear unit variant of sigmoid-weighted linear units.\n",
    "\n",
    "**Recall SiLU is**:\n",
    "\n",
    "$$silu(x) = x * \\sigma(x)$$\n",
    "\n",
    "**SwiGLU**:\n",
    "\n",
    "$$SwiGLU(x) = SiLU(Linear_1(x)) * Linear_2(x)$$\n"
   ]
  },
  {
   "cell_type": "code",
   "execution_count": 199,
   "metadata": {},
   "outputs": [],
   "source": [
    "class FeedForward(nn.Module):\n",
    "    def __init__(self, config:dataclass):\n",
    "        super().__init__()\n",
    "        # 3 Linear layers, one silu in between the two\n",
    "        self.fc1 = nn.Linear(config.emb_dim, config.hidden_dim, dtype=config.dtype, bias=config.ff_bias)\n",
    "        self.fc2 = nn.Linear(config.emb_dim, config.hidden_dim, dtype=config.dtype, bias=config.ff_bias)\n",
    "        self.fc3 = nn.Linear(config.hidden_dim, config.emb_dim, dtype=config.dtype, bias=config.ff_bias)\n",
    "        self.silu = nn.SiLU()\n",
    "\n",
    "    def forward(self, x:torch.Tensor):\n",
    "        x_fc1 = self.fc1(x)\n",
    "        x_fc2 = self.fc2(x)\n",
    "        x = self.silu(x_fc1) * x_fc2\n",
    "        return self.fc3(x)"
   ]
  },
  {
   "cell_type": "markdown",
   "metadata": {},
   "source": [
    "##### Forward Pass Step Through\n"
   ]
  },
  {
   "cell_type": "code",
   "execution_count": 200,
   "metadata": {},
   "outputs": [],
   "source": [
    "from dataclasses import dataclass\n",
    "\n",
    "@dataclass\n",
    "class ExConfig:\n",
    "    emb_dim = 8\n",
    "    hidden_dim = 4\n",
    "    ff_bias = False\n",
    "    dtype = torch.float32"
   ]
  },
  {
   "cell_type": "code",
   "execution_count": 201,
   "metadata": {},
   "outputs": [
    {
     "data": {
      "text/plain": [
       "tensor([[[0.8562, 0.8171, 0.5510, 0.7538, 0.5183, 0.2659, 0.6102, 0.2956],\n",
       "         [0.1618, 0.9196, 0.5412, 0.0672, 0.5936, 0.3335, 0.2901, 0.7050],\n",
       "         [0.3917, 0.9414, 0.8767, 0.2810, 0.1935, 0.4370, 0.1713, 0.2047],\n",
       "         [0.7780, 0.0842, 0.0210, 0.3345, 0.3533, 0.9742, 0.6587, 0.1125]],\n",
       "\n",
       "        [[0.2863, 0.3911, 0.6510, 0.6795, 0.3936, 0.4174, 0.6731, 0.4670],\n",
       "         [0.1124, 0.7038, 0.6871, 0.1183, 0.8075, 0.6196, 0.8748, 0.1718],\n",
       "         [0.8527, 0.1414, 0.2472, 0.8804, 0.4532, 0.4600, 0.6645, 0.3190],\n",
       "         [0.2205, 0.9183, 0.0903, 0.6148, 0.2728, 0.5989, 0.1556, 0.6848]]])"
      ]
     },
     "execution_count": 201,
     "metadata": {},
     "output_type": "execute_result"
    }
   ],
   "source": [
    "inputs = torch.stack([torch.rand(4, 8), torch.rand(4, 8)], dim=0)\n",
    "inputs"
   ]
  },
  {
   "cell_type": "code",
   "execution_count": 202,
   "metadata": {},
   "outputs": [],
   "source": [
    "ff = FeedForward(ExConfig())"
   ]
  },
  {
   "cell_type": "code",
   "execution_count": 203,
   "metadata": {},
   "outputs": [
    {
     "data": {
      "text/plain": [
       "tensor([[[ 0.4497,  0.1524, -0.1136, -0.2573],\n",
       "         [ 0.3189,  0.1773, -0.2373, -0.0403],\n",
       "         [ 0.2861,  0.2566,  0.0712, -0.0957],\n",
       "         [ 0.6609, -0.0991, -0.0587,  0.0728]],\n",
       "\n",
       "        [[ 0.1569,  0.3293,  0.0407, -0.0748],\n",
       "         [ 0.7395,  0.1013, -0.0921,  0.2568],\n",
       "         [ 0.3133,  0.1137, -0.0527, -0.2240],\n",
       "         [ 0.1214,  0.1897, -0.1192, -0.0503]]], grad_fn=<UnsafeViewBackward0>)"
      ]
     },
     "execution_count": 203,
     "metadata": {},
     "output_type": "execute_result"
    }
   ],
   "source": [
    "fc1 = ff.fc1(inputs)\n",
    "fc1"
   ]
  },
  {
   "cell_type": "code",
   "execution_count": 204,
   "metadata": {},
   "outputs": [
    {
     "data": {
      "text/plain": [
       "tensor([[[-0.0040, -0.2185,  0.1382,  0.0865],\n",
       "         [-0.2930, -0.0662,  0.6157,  0.1834],\n",
       "         [-0.2536,  0.1811,  0.4009,  0.2920],\n",
       "         [ 0.4699, -0.2878,  0.2240, -0.1464]],\n",
       "\n",
       "        [[ 0.1701, -0.2044,  0.3307, -0.0213],\n",
       "         [ 0.0190, -0.2882,  0.6598, -0.1842],\n",
       "         [ 0.3800, -0.3569, -0.0411, -0.0663],\n",
       "         [ 0.0429, -0.1022,  0.4397,  0.0784]]], grad_fn=<UnsafeViewBackward0>)"
      ]
     },
     "execution_count": 204,
     "metadata": {},
     "output_type": "execute_result"
    }
   ],
   "source": [
    "fc2 = ff.fc2(inputs)\n",
    "fc2"
   ]
  },
  {
   "cell_type": "code",
   "execution_count": 205,
   "metadata": {},
   "outputs": [
    {
     "data": {
      "text/plain": [
       "tensor([[[ 0.2746,  0.0820, -0.0536, -0.1122],\n",
       "         [ 0.1847,  0.0965, -0.1046, -0.0197],\n",
       "         [ 0.1634,  0.1447,  0.0369, -0.0455],\n",
       "         [ 0.4359, -0.0471, -0.0285,  0.0377]],\n",
       "\n",
       "        [[ 0.0846,  0.1915,  0.0207, -0.0360],\n",
       "         [ 0.5005,  0.0532, -0.0439,  0.1448],\n",
       "         [ 0.1810,  0.0601, -0.0257, -0.0995],\n",
       "         [ 0.0644,  0.1038, -0.0561, -0.0245]]], grad_fn=<SiluBackward0>)"
      ]
     },
     "execution_count": 205,
     "metadata": {},
     "output_type": "execute_result"
    }
   ],
   "source": [
    "# notice how it balanced out the weights.\n",
    "silu = ff.silu(fc1)\n",
    "silu"
   ]
  },
  {
   "cell_type": "code",
   "execution_count": 206,
   "metadata": {},
   "outputs": [
    {
     "data": {
      "text/plain": [
       "tensor([[[-5.8990e-04, -4.8279e-03, -2.4181e-03, -7.2122e-03,  7.1769e-03,\n",
       "           7.0435e-03,  2.7941e-03,  3.6446e-04],\n",
       "         [-5.1965e-03, -7.8260e-03,  3.6779e-02,  8.3208e-03,  2.6413e-02,\n",
       "          -1.2290e-02, -1.1195e-03,  1.5196e-02],\n",
       "         [ 1.2715e-02,  3.9423e-02,  1.0529e-02,  2.8812e-02, -4.8914e-04,\n",
       "          -1.6098e-02, -4.5580e-03, -4.0795e-03],\n",
       "         [-2.4614e-02, -7.8802e-02, -6.5532e-02, -7.9430e-02, -7.8179e-02,\n",
       "           4.4514e-02, -2.0117e-02,  4.5216e-03]],\n",
       "\n",
       "        [[-3.5914e-03, -1.7336e-02, -1.3322e-02, -1.8574e-02,  1.1708e-02,\n",
       "           1.6750e-02,  1.0326e-02, -3.2872e-03],\n",
       "         [-2.2824e-03, -9.9773e-03, -2.4735e-03, -1.4360e-02,  1.1376e-03,\n",
       "           1.0567e-02, -3.2712e-03,  4.9115e-03],\n",
       "         [-1.1371e-02, -3.8468e-02, -2.5447e-02, -3.5402e-02, -1.3636e-02,\n",
       "           2.2543e-02,  1.8344e-03,  1.2647e-04],\n",
       "         [-5.4201e-03, -1.5272e-02,  4.7404e-03, -9.2529e-03,  5.3722e-03,\n",
       "           3.6943e-03, -1.5666e-05,  5.7114e-03]]],\n",
       "       grad_fn=<UnsafeViewBackward0>)"
      ]
     },
     "execution_count": 206,
     "metadata": {},
     "output_type": "execute_result"
    }
   ],
   "source": [
    "x = silu * fc2\n",
    "out = ff.fc3(x)\n",
    "out"
   ]
  },
  {
   "cell_type": "code",
   "execution_count": 207,
   "metadata": {},
   "outputs": [
    {
     "data": {
      "text/plain": [
       "True"
      ]
     },
     "execution_count": 207,
     "metadata": {},
     "output_type": "execute_result"
    }
   ],
   "source": [
    "torch.allclose(ff.forward(inputs), out)"
   ]
  },
  {
   "cell_type": "markdown",
   "metadata": {},
   "source": [
    "### **Posistional Encodings**\n",
    "\n",
    "Another divergence from the original GPT architecture is in the positional encoing approach.\n",
    "There are two main token positions to contend with, _absolute_ and _relative_.\n",
    "\n",
    "- _Absolute_ position is the token of interest's position within the whole sequence of tokens\n",
    "\n",
    "- _Relative_ position is the token of interest's postition compared to another token within the sequence.\n",
    "\n",
    "**Sinusoidal Positional Encoding**\n",
    "\n",
    "- The original tranformer architecture used sinusoidal posistional encoding, which creates frequencies vector, using sine and cosine, to communicate a token's position.\n",
    "- The downside of this approach is encodings start to break down when the model encounters sequence lengths longer than those it was trained on.\n",
    "\n",
    "**Rotary Positional Embeddings (RoPE)**\n",
    "\n",
    "- RoPE is a modern approach to positional encoding. RoPE applies rotations to represent a tokens positional embedding. Unlike sinusoidal positional encoding, RoPE can better extend to longer contexts not seen in training because of it's rotational properties.\n",
    "\n",
    "_The equation is:_\n",
    "\n",
    "$$f_{\\{q,k\\}}(x_m, m) = R^d_{\\Theta,m}W_{\\{q, k\\}}x_m$$\n"
   ]
  },
  {
   "cell_type": "code",
   "execution_count": 62,
   "metadata": {},
   "outputs": [],
   "source": [
    "def precompute_rope_params(head_dim, theta_base=10_000, context_length=4096):\n",
    "    assert head_dim % 2 == 0, \"Embedding dimension must be even\"\n",
    "\n",
    "    # Compute the inverse frequencies\n",
    "    inv_freq = 1.0 / ( theta_base ** (torch.arange(0, head_dim, 2)[: (head_dim // 2)].float() / head_dim))\n",
    "\n",
    "    # Generate position indices\n",
    "    positions = torch.arange(context_length)\n",
    "\n",
    "    # Compute the angles\n",
    "    angles = positions[:, None] * inv_freq[None, :]  # Shape: (context_length, head_dim // 2)\n",
    "\n",
    "    # Expand angles to match the head_dim\n",
    "    angles = torch.cat([angles, angles], dim=1)  # Shape: (context_length, head_dim)\n",
    "\n",
    "    # Precompute sine and cosine\n",
    "    cos = torch.cos(angles)\n",
    "    sin = torch.sin(angles)\n",
    "\n",
    "    return cos, sin\n",
    "\n",
    "def compute_rope(x, cos, sin):\n",
    "    # x: (batch_size, num_heads, seq_len, head_dim)\n",
    "    batch_size, num_heads, seq_len, head_dim = x.shape\n",
    "    assert head_dim % 2 == 0, \"Head dimension must be even\"\n",
    "\n",
    "    # Split x into first half and second half\n",
    "    x1 = x[..., : head_dim // 2]  # First half\n",
    "    x2 = x[..., head_dim // 2 :]  # Second half\n",
    "\n",
    "    # Apply the rotary transformation\n",
    "    rotated = torch.cat((-x2, x1), dim=-1)\n",
    "\n",
    "    # Adjust sin and cos shapes\n",
    "    cos = cos[:seq_len, :].unsqueeze(0).unsqueeze(0)  # Shape: (1, 1, seq_len, head_dim)\n",
    "    sin = sin[:seq_len, :].unsqueeze(0).unsqueeze(0)\n",
    "\n",
    "    x_rotated = (x * cos) + (rotated * sin)\n",
    "    return x_rotated.to(dtype=x.dtype)"
   ]
  },
  {
   "cell_type": "markdown",
   "metadata": {},
   "source": [
    "##### Steping Through the Functions\n"
   ]
  },
  {
   "cell_type": "code",
   "execution_count": 64,
   "metadata": {},
   "outputs": [],
   "source": [
    "# Define the settings\n",
    "batch_size, context_len, num_heads, head_dim, theta_base = 2, 5, 4, 16, 10_000"
   ]
  },
  {
   "cell_type": "markdown",
   "metadata": {},
   "source": [
    "Let's explore `precompute_rope_params()`\n"
   ]
  },
  {
   "cell_type": "code",
   "execution_count": 65,
   "metadata": {},
   "outputs": [
    {
     "data": {
      "text/plain": [
       "tensor([ 0,  2,  4,  6,  8, 10, 12, 14])"
      ]
     },
     "execution_count": 65,
     "metadata": {},
     "output_type": "execute_result"
    }
   ],
   "source": [
    "# Lets first make sure that head dim is an event number\n",
    "assert head_dim % 2 == 0, \"Head dimension needs to be even\"\n",
    "# Create a tensor from 0 -> head_dim counting by 2\n",
    "torch.arange(0, head_dim, 2)"
   ]
  },
  {
   "cell_type": "code",
   "execution_count": 75,
   "metadata": {},
   "outputs": [
    {
     "data": {
      "text/plain": [
       "tensor([0.0000, 0.1250, 0.2500, 0.3750, 0.5000, 0.6250, 0.7500, 0.8750])"
      ]
     },
     "execution_count": 75,
     "metadata": {},
     "output_type": "execute_result"
    }
   ],
   "source": [
    "# convert values into floats, and divide by head_dim to normalize frequencies\n",
    "torch.arange(0, head_dim, 2)[: (head_dim // 2)].float() / head_dim"
   ]
  },
  {
   "cell_type": "code",
   "execution_count": 78,
   "metadata": {},
   "outputs": [
    {
     "data": {
      "text/plain": [
       "tensor([1.0000e+00, 3.1623e+00, 1.0000e+01, 3.1623e+01, 1.0000e+02, 3.1623e+02,\n",
       "        1.0000e+03, 3.1623e+03])"
      ]
     },
     "execution_count": 78,
     "metadata": {},
     "output_type": "execute_result"
    }
   ],
   "source": [
    "# Multiply by theta_base to control how quickly the frequencies decay\n",
    "theta_base ** (torch.arange(0, head_dim, 2)[: (head_dim // 2)].float() / head_dim)"
   ]
  },
  {
   "cell_type": "code",
   "execution_count": 80,
   "metadata": {},
   "outputs": [
    {
     "data": {
      "text/plain": [
       "tensor([1.0000e+00, 3.1623e-01, 1.0000e-01, 3.1623e-02, 1.0000e-02, 3.1623e-03,\n",
       "        1.0000e-03, 3.1623e-04])"
      ]
     },
     "execution_count": 80,
     "metadata": {},
     "output_type": "execute_result"
    }
   ],
   "source": [
    "# The whole thing put together\n",
    "inv_freq = 1.0 / ( theta_base ** (torch.arange(0, head_dim, 2)[: (head_dim // 2)].float() / head_dim))\n",
    "inv_freq"
   ]
  },
  {
   "cell_type": "markdown",
   "metadata": {},
   "source": [
    "Once we have the inverse frequencies, lets generate position indicies. This is a simple list of numbers from 0 - `context_length`\n"
   ]
  },
  {
   "cell_type": "code",
   "execution_count": 83,
   "metadata": {},
   "outputs": [
    {
     "data": {
      "text/plain": [
       "tensor([0, 1, 2, 3, 4])"
      ]
     },
     "execution_count": 83,
     "metadata": {},
     "output_type": "execute_result"
    }
   ],
   "source": [
    "positions = torch.arange(context_len)\n",
    "positions"
   ]
  },
  {
   "cell_type": "code",
   "execution_count": 90,
   "metadata": {},
   "outputs": [
    {
     "name": "stdout",
     "output_type": "stream",
     "text": [
      "Previous Position Shape: torch.Size([5])\n",
      "New Position Shape: torch.Size([5, 1])\n",
      "=====\n",
      "Previous Inverse Frequency Shape: torch.Size([8])\n",
      "New Inverse Frequency Shape: torch.Size([1, 8])\n"
     ]
    }
   ],
   "source": [
    "# adding another dimension to the positions and frequencies\n",
    "print(f\"Previous Position Shape: {positions.shape}\\nNew Position Shape: {positions[:, None].shape}\")\n",
    "print(\"=\"*5)\n",
    "print(f\"Previous Inverse Frequency Shape: {inv_freq.shape}\\nNew Inverse Frequency Shape: {inv_freq[None, :].shape}\") "
   ]
  },
  {
   "cell_type": "code",
   "execution_count": 92,
   "metadata": {},
   "outputs": [
    {
     "data": {
      "text/plain": [
       "(tensor([[0],\n",
       "         [1],\n",
       "         [2],\n",
       "         [3],\n",
       "         [4]]),\n",
       " tensor([[1.0000e+00, 3.1623e-01, 1.0000e-01, 3.1623e-02, 1.0000e-02, 3.1623e-03,\n",
       "          1.0000e-03, 3.1623e-04]]))"
      ]
     },
     "execution_count": 92,
     "metadata": {},
     "output_type": "execute_result"
    }
   ],
   "source": [
    "# We can add a new dimension another way by using unsqueeze\n",
    "positions.unsqueeze(dim=-1), inv_freq.unsqueeze(dim=0)"
   ]
  },
  {
   "cell_type": "code",
   "execution_count": 109,
   "metadata": {},
   "outputs": [
    {
     "data": {
      "text/plain": [
       "tensor([[0.0000e+00, 0.0000e+00, 0.0000e+00, 0.0000e+00, 0.0000e+00, 0.0000e+00,\n",
       "         0.0000e+00, 0.0000e+00],\n",
       "        [1.0000e+00, 3.1623e-01, 1.0000e-01, 3.1623e-02, 1.0000e-02, 3.1623e-03,\n",
       "         1.0000e-03, 3.1623e-04],\n",
       "        [2.0000e+00, 6.3246e-01, 2.0000e-01, 6.3246e-02, 2.0000e-02, 6.3246e-03,\n",
       "         2.0000e-03, 6.3246e-04],\n",
       "        [3.0000e+00, 9.4868e-01, 3.0000e-01, 9.4868e-02, 3.0000e-02, 9.4868e-03,\n",
       "         3.0000e-03, 9.4868e-04],\n",
       "        [4.0000e+00, 1.2649e+00, 4.0000e-01, 1.2649e-01, 4.0000e-02, 1.2649e-02,\n",
       "         4.0000e-03, 1.2649e-03]])"
      ]
     },
     "execution_count": 109,
     "metadata": {},
     "output_type": "execute_result"
    }
   ],
   "source": [
    "# Either way you choose to insert a new dimension is up to you.\n",
    "# Once you insert a new dimension we do element wize multiplication\n",
    "angles = (positions[:, None] * inv_freq[None, :])\n",
    "angles"
   ]
  },
  {
   "cell_type": "code",
   "execution_count": 110,
   "metadata": {},
   "outputs": [
    {
     "data": {
      "text/plain": [
       "tensor([[0.0000e+00, 0.0000e+00, 0.0000e+00, 0.0000e+00, 0.0000e+00, 0.0000e+00,\n",
       "         0.0000e+00, 0.0000e+00, 0.0000e+00, 0.0000e+00, 0.0000e+00, 0.0000e+00,\n",
       "         0.0000e+00, 0.0000e+00, 0.0000e+00, 0.0000e+00],\n",
       "        [1.0000e+00, 3.1623e-01, 1.0000e-01, 3.1623e-02, 1.0000e-02, 3.1623e-03,\n",
       "         1.0000e-03, 3.1623e-04, 1.0000e+00, 3.1623e-01, 1.0000e-01, 3.1623e-02,\n",
       "         1.0000e-02, 3.1623e-03, 1.0000e-03, 3.1623e-04],\n",
       "        [2.0000e+00, 6.3246e-01, 2.0000e-01, 6.3246e-02, 2.0000e-02, 6.3246e-03,\n",
       "         2.0000e-03, 6.3246e-04, 2.0000e+00, 6.3246e-01, 2.0000e-01, 6.3246e-02,\n",
       "         2.0000e-02, 6.3246e-03, 2.0000e-03, 6.3246e-04],\n",
       "        [3.0000e+00, 9.4868e-01, 3.0000e-01, 9.4868e-02, 3.0000e-02, 9.4868e-03,\n",
       "         3.0000e-03, 9.4868e-04, 3.0000e+00, 9.4868e-01, 3.0000e-01, 9.4868e-02,\n",
       "         3.0000e-02, 9.4868e-03, 3.0000e-03, 9.4868e-04],\n",
       "        [4.0000e+00, 1.2649e+00, 4.0000e-01, 1.2649e-01, 4.0000e-02, 1.2649e-02,\n",
       "         4.0000e-03, 1.2649e-03, 4.0000e+00, 1.2649e+00, 4.0000e-01, 1.2649e-01,\n",
       "         4.0000e-02, 1.2649e-02, 4.0000e-03, 1.2649e-03]])"
      ]
     },
     "execution_count": 110,
     "metadata": {},
     "output_type": "execute_result"
    }
   ],
   "source": [
    "# Lets expand the we need to join angles with itself since we only have head_dim // 2\n",
    "angles = torch.cat([angles, angles], dim=1)\n",
    "angles"
   ]
  },
  {
   "cell_type": "code",
   "execution_count": 111,
   "metadata": {},
   "outputs": [
    {
     "data": {
      "text/plain": [
       "torch.Size([5, 16])"
      ]
     },
     "execution_count": 111,
     "metadata": {},
     "output_type": "execute_result"
    }
   ],
   "source": [
    "# Compute sine and cosine. This is fairly straight forward\n",
    "cos = torch.cos(angles)\n",
    "sin = torch.sin(angles)"
   ]
  },
  {
   "cell_type": "markdown",
   "metadata": {},
   "source": [
    "Now that we have the corresponding sin and cos tensors, we can compute RoPE from the `compute_rope()` function\n"
   ]
  },
  {
   "cell_type": "code",
   "execution_count": 116,
   "metadata": {},
   "outputs": [],
   "source": [
    "# RECALL: batch_size, context_len, num_heads, head_dim, theta_base = 2, 5, 4, 16, 10_000\n",
    "# Create dummy query and key tensors\n",
    "queries = torch.randn(batch_size, num_heads, context_len, head_dim)\n",
    "keys = torch.randn(batch_size, num_heads, context_len, head_dim)"
   ]
  },
  {
   "cell_type": "code",
   "execution_count": 160,
   "metadata": {},
   "outputs": [
    {
     "data": {
      "text/plain": [
       "torch.Size([2, 4, 5, 8])"
      ]
     },
     "execution_count": 160,
     "metadata": {},
     "output_type": "execute_result"
    }
   ],
   "source": [
    "queries[..., :head_dim//2].shape"
   ]
  },
  {
   "cell_type": "markdown",
   "metadata": {},
   "source": [
    "We have the queries and keys of dimension 2x4x5x16. Recall from the attention [notebook](../Attention/play.ipynb), we are dealing with weight splitting. So what does this mean?\n",
    "\n",
    "- The first dimension is the batch dimension or the number of token sequences we are passing through the model.\n",
    "- The second dimension is the number of attention heads we have. This is where weight splitting comes into play. Since we have 4 attention heads, we actually package all of the query and key vectors in one tensor. By splitting along this dimension we get 4 separate _context_len x head_dim_ matricies.\n",
    "- The third dimension is the context length or the number of tokens in the sequence that is passed in to the transformer.\n",
    "- The fourth dimension is the dimension of each attention head. This also represents the number of features that are in a Q, K, and V vector. Remember there is one Q, K, V vector to represent each token.\n"
   ]
  },
  {
   "cell_type": "code",
   "execution_count": 119,
   "metadata": {},
   "outputs": [
    {
     "data": {
      "text/plain": [
       "torch.Size([2, 4, 5, 16])"
      ]
     },
     "execution_count": 119,
     "metadata": {},
     "output_type": "execute_result"
    }
   ],
   "source": [
    "queries.shape "
   ]
  },
  {
   "cell_type": "code",
   "execution_count": 120,
   "metadata": {},
   "outputs": [],
   "source": [
    "# lets get the dimensions of our input x. x is either the query or key vectors\n",
    "batch_size, num_heads, seq_len, head_dim = queries.shape\n",
    "# ensure the head_dim is even\n",
    "assert head_dim % 2 == 0, \"Head dimension must be even\""
   ]
  },
  {
   "cell_type": "markdown",
   "metadata": {},
   "source": [
    "Take a look at the code below. What this code is doing is taking the original query vector, splitting the embeddings for each token in half, negating the original second half and then concatonating the negated, negative second half with the orignal first half. This is a mathematical trick that emulates multiplication by the original rotary embedding matrix.\n",
    "\n",
    "lets have a look at the 2D rotational matrix.\n",
    "\n",
    "\\begin{pmatrix}\n",
    "\n",
    "cos(m\\theta) & -sin(m\\theta) \\\\\n",
    "\n",
    "cos(m\\theta) & sin(m\\theta)\n",
    "\n",
    "\\end{pmatrix}\n",
    "\n",
    "Now lets take a look at what the code below is doing with the following example:\n",
    "\n",
    "$$\n",
    "\\begin{pmatrix}\n",
    "\n",
    "1 & 2 & 3 & 4 \\\\\n",
    "\n",
    "5 & 6 & 7 & 8 \\\\\n",
    "\n",
    "1 & 4 & 5 & 9\n",
    "\n",
    "\\end{pmatrix}\n",
    "=>\n",
    "\\begin{pmatrix}\n",
    "\n",
    "1 & 2 \\\\\n",
    "\n",
    "5 & 6 \\\\\n",
    "\n",
    "1 & 4\n",
    "\n",
    "\\end{pmatrix}\n",
    "\n",
    "and\n",
    "\n",
    "\\begin{pmatrix}\n",
    "\n",
    "-3 & -4 \\\\\n",
    "\n",
    "-7 & -8 \\\\\n",
    "\n",
    "-5 & -9\n",
    "\n",
    "\\end{pmatrix}\n",
    "\n",
    "=>\n",
    "\n",
    "\\begin{pmatrix}\n",
    "\n",
    "-3 & -4 & 1 & 2 \\\\\n",
    "\n",
    "-7 & -8 & 5 & 6 \\\\\n",
    "\n",
    "-5 & -9 & 1 & 4\n",
    "\n",
    "\\end{pmatrix}\n",
    "\n",
    "\n",
    "$$\n",
    "\n",
    "The reasoning may be confusing at the moment, but I will show how this is advantageous shortly. Remeber the number of rows are the sequence legnth, and the columns are the embeddings. This means each row represents query embedding.\n"
   ]
  },
  {
   "cell_type": "code",
   "execution_count": 166,
   "metadata": {},
   "outputs": [
    {
     "name": "stdout",
     "output_type": "stream",
     "text": [
      "Full Query Shape: torch.Size([2, 4, 5, 16])\n",
      "First half Query Shape: torch.Size([2, 4, 5, 8])\n",
      "Second half Query Shape: torch.Size([2, 4, 5, 8])\n"
     ]
    }
   ],
   "source": [
    "# split the query into its first and second halfs\n",
    "q_first = queries[..., : head_dim // 2]\n",
    "q_second = queries[..., head_dim // 2 : ]\n",
    "rotated = torch.cat([q_first, q_second], dim=-1)\n",
    "print(f\"Full Query Shape: {queries.shape}\")\n",
    "print(f\"First half Query Shape: {q_first.shape}\")\n",
    "print(f\"Second half Query Shape: {q_second.shape}\")"
   ]
  },
  {
   "cell_type": "markdown",
   "metadata": {},
   "source": [
    "We spoke about broadcasting, a very important PyTorch concept, in the attention [notebook](\"../Attention/play.ipynb\"). In order to properly apply the cos and sin transformations we need to create two new dimensions of size 1 for proper broadcasting.\n"
   ]
  },
  {
   "cell_type": "code",
   "execution_count": 133,
   "metadata": {},
   "outputs": [
    {
     "name": "stdout",
     "output_type": "stream",
     "text": [
      "Previous Cos shape: torch.Size([5, 16])\n",
      "New Cos shape: torch.Size([1, 1, 5, 16])\n"
     ]
    }
   ],
   "source": [
    "# Adjust sin and cos shapes\n",
    "# Option 1: cos[:seq_len, :][None, None, :, :].shape\n",
    "# Option 2:\n",
    "print(f\"Previous Cos shape: {cos.shape}\")\n",
    "cos = cos[:seq_len, :].unsqueeze(0).unsqueeze(0)\n",
    "print(f\"New Cos shape: {cos.shape}\")\n",
    "# apply the same for sin\n",
    "sin = sin[:seq_len, :].unsqueeze(0).unsqueeze(0)"
   ]
  },
  {
   "cell_type": "markdown",
   "metadata": {},
   "source": [
    "Now to explain what is going on in the next code block, lets recall what we did with the previous embedding split and negation:\n",
    "\n",
    "$$\n",
    "\\begin{pmatrix}\n",
    "\n",
    "1 & 2 & 3 & 4 \\\\\n",
    "\n",
    "5 & 6 & 7 & 8 \\\\\n",
    "\n",
    "1 & 4 & 5 & 9\n",
    "\n",
    "\\end{pmatrix}\n",
    "=(split)=>\n",
    "\\begin{pmatrix}\n",
    "\n",
    "1 & 2 \\\\\n",
    "\n",
    "5 & 6 \\\\\n",
    "\n",
    "1 & 4\n",
    "\n",
    "\\end{pmatrix}\n",
    "\n",
    "and\n",
    "\n",
    "\\begin{pmatrix}\n",
    "\n",
    "-3 & -4 \\\\\n",
    "\n",
    "-7 & -8 \\\\\n",
    "\n",
    "-5 & -9\n",
    "\n",
    "\\end{pmatrix}\n",
    "\n",
    "=(rotate)=>\n",
    "\\begin{pmatrix}\n",
    "\n",
    "-3 & -4 & 1 & 2 \\\\\n",
    "\n",
    "-7 & -8 & 5 & 6 \\\\\n",
    "\n",
    "-5 & -9 & 1 & 4\n",
    "\n",
    "\\end{pmatrix}\n",
    "\n",
    "\n",
    "$$\n",
    "\n",
    "Now we take the queries, do component wise multiplication using the RoPE cos frequencies and sin frequencies\n",
    "\n",
    "$$\n",
    "\\begin{pmatrix}\n",
    "\n",
    "1 & 2 & 3 & 4 \\\\\n",
    "\n",
    "5 & 6 & 7 & 8 \\\\\n",
    "\n",
    "1 & 4 & 5 & 9\n",
    "\n",
    "\\end{pmatrix}\n",
    "* cos\n",
    "+\n",
    "\\begin{pmatrix}\n",
    "\n",
    "-3 & -4 & 1 & 2 \\\\\n",
    "\n",
    "-7 & -8 & 5 & 6 \\\\\n",
    "\n",
    "-5 & -9 & 1 & 4\n",
    "\n",
    "\\end{pmatrix}\n",
    "* sin\n",
    "$$\n",
    "\n",
    "Although this does not look exactly the same as the RoPE equation below, it is a mathematical trick that acheives the same geometric rotation more efficiently:\n",
    "\n",
    "$$f_{\\{q,k\\}}(x_m, m) = R^d_{\\Theta,m}W_{\\{q, k\\}}x_m$$\n"
   ]
  },
  {
   "cell_type": "code",
   "execution_count": 141,
   "metadata": {},
   "outputs": [],
   "source": [
    "queries_rotated = ( queries * cos ) + ( rotated * sin )"
   ]
  },
  {
   "cell_type": "markdown",
   "metadata": {},
   "source": [
    "### **Multi-Headed Attention**\n",
    "\n",
    "Multiheaded attention was covered extensively in this notebook [here](\"../Attention/play.ipynb\")\n",
    "\n",
    "But let's implement Attention applying RoPE\n"
   ]
  },
  {
   "cell_type": "code",
   "execution_count": 197,
   "metadata": {},
   "outputs": [],
   "source": [
    "class MultiHeadedAttention(nn.Module):\n",
    "    def __init__(self, d_in, d_out, context_length, num_heads, dtype=None):\n",
    "        super().__init__()\n",
    "        assert d_out % num_heads == 0, \"The output dimension (d_out) mus be divisible by n_heads\"\n",
    "\n",
    "        self.d_out = d_out\n",
    "        self.num_heads = num_heads\n",
    "        self.head_dim = d_out // num_heads \n",
    "\n",
    "        # Set q, k, v, vectors and output projection\n",
    "        self.W_query = nn.Linear(d_in, d_out, bias=False, dtype=dtype)\n",
    "        self.W_key = nn.Linear(d_in, d_out, bias=False, dtype=dtype)\n",
    "        self.W_value = nn.Linear(d_in, d_out, bias=False, dtype=dtype)\n",
    "        self.out_proj = nn.Linear(d_out, d_out, bias=False, dtype=dtype)\n",
    "\n",
    "        # Create token masking \n",
    "        self.register_buffer(\"mask\", torch.triu(torch.ones(context_length, context_length), diagonal=1))\n",
    "\n",
    "        # Create RoPE parameters\n",
    "        cos, sin = precompute_rope_params(head_dim=self.head_dim, context_length=context_length)\n",
    "        self.register_buffer(\"cos\", cos)\n",
    "        self.register_buffer(\"sin\", sin)\n",
    "    \n",
    "    def forward(self, x:torch.Tensor):\n",
    "        b, num_tokens, d_in = x.shape\n",
    "\n",
    "        # Calculate the q, k, v vectors\n",
    "        queries = self.W_query(x)\n",
    "        keys = self.W_key(x)\n",
    "        values = self.W_value(x)\n",
    "\n",
    "        # Remember the output dim is all of the q, k, v vectors concatonated. Need to split\n",
    "        queries = queries.view(b, num_tokens, self.num_heads, self.head_dim)\n",
    "        keys = keys.view(b, num_tokens, self.num_heads, self.head_dim)\n",
    "        values = values.view(b, num_tokens, self.num_heads, self.head_dim)\n",
    "\n",
    "        # Now we need to swap the head dimension and the context dim\n",
    "        queries:torch.Tensor = queries.transpose(1,2)\n",
    "        keys:torch.Tensor = keys.transpose(1,2)\n",
    "        values:torch.Tensor = values.transpose(1,2)\n",
    "\n",
    "        # compute the positional encodings for the key and the values\n",
    "        keys = compute_rope(keys, self.cos, self.sin)\n",
    "        queries = compute_rope(queries, self.cos, self.sin)\n",
    "\n",
    "        # Attention scores via scaled dot-product\n",
    "        attn_scores = queries @ keys.transpose(2,3)\n",
    "\n",
    "        # Masking\n",
    "        mask_bool = self.mask.bool()[:num_tokens, :num_tokens]\n",
    "\n",
    "        # Use mask to fill upper triangle of attention to -inf for norm\n",
    "        attn_scores.masked_fill_(mask_bool, -torch.inf)\n",
    "\n",
    "        # normalizing the weights\n",
    "        attn_weights = torch.softmax(attn_scores / keys.size(-1)**0.5, dim=-1)\n",
    "\n",
    "        context_vec = (attn_weights @ values).transpose(1,2)\n",
    "\n",
    "        # combine the heads again self.d_out = self.num_heads * self.head_dim\n",
    "        context_vec = context_vec.reshape(b, num_tokens, self.d_out)\n",
    "        context_vec = self.out_proj(context_vec) # projection\n",
    "        return context_vec"
   ]
  },
  {
   "cell_type": "code",
   "execution_count": 198,
   "metadata": {},
   "outputs": [
    {
     "data": {
      "text/plain": [
       "tensor([[[ 0.6056,  0.4086, -0.0366,  ..., -0.2326, -0.1381,  0.3727],\n",
       "         [ 0.5075,  0.2772,  0.0285,  ..., -0.2222, -0.1858,  0.4793],\n",
       "         [ 0.3986,  0.2096,  0.0269,  ..., -0.3572, -0.2304,  0.3711],\n",
       "         ...,\n",
       "         [-0.0310, -0.0103,  0.0176,  ...,  0.0535, -0.0766, -0.0107],\n",
       "         [-0.0382, -0.0397,  0.0171,  ...,  0.0416, -0.0566, -0.0347],\n",
       "         [-0.0237, -0.0306,  0.0328,  ...,  0.0404, -0.0638, -0.0395]]],\n",
       "       grad_fn=<UnsafeViewBackward0>)"
      ]
     },
     "execution_count": 198,
     "metadata": {},
     "output_type": "execute_result"
    }
   ],
   "source": [
    "# Settings\n",
    "batch_size = 1\n",
    "context_len = 100\n",
    "max_context_len = 4096\n",
    "embed_dim = 128\n",
    "num_heads = 4\n",
    "\n",
    "example_batch = torch.randn((batch_size, context_len, embed_dim))\n",
    "\n",
    "mha = MultiHeadedAttention(d_in=embed_dim, d_out=embed_dim, context_length=max_context_len, num_heads=num_heads)\n",
    "mha.forward(example_batch)"
   ]
  },
  {
   "cell_type": "markdown",
   "metadata": {},
   "source": [
    "### Transformer Block\n"
   ]
  },
  {
   "cell_type": "code",
   "execution_count": 219,
   "metadata": {},
   "outputs": [],
   "source": [
    "class TransformerBlock(nn.Module):\n",
    "    def __init__(self, cfg:dataclass):\n",
    "        super().__init__()\n",
    "        self.att = MultiHeadedAttention(\n",
    "            d_in=cfg.emb_dim,\n",
    "            d_out=cfg.emb_dim,\n",
    "            context_length=cfg.context_length,\n",
    "            num_heads=cfg.n_heads,\n",
    "            dtype=cfg.dtype\n",
    "        )\n",
    "\n",
    "        self.ff = FeedForward(cfg)\n",
    "\n",
    "        # RMSNorms\n",
    "        self.norm1 = RMSNorm(cfg.emb_dim)\n",
    "        self.norm2 = RMSNorm(cfg.emb_dim)\n",
    "    \n",
    "    def forward(self, x:torch.Tensor):\n",
    "        # save x for the residual connections \n",
    "        residual = x\n",
    "        x = self.norm1(x)\n",
    "        x = self.att(x)\n",
    "        x = x + residual\n",
    "\n",
    "        # reset residual connections\n",
    "        residual = x\n",
    "        x = self.norm2(x)\n",
    "        x = self.ff(x)\n",
    "        x = x + residual\n",
    "        \n",
    "        return x"
   ]
  },
  {
   "cell_type": "markdown",
   "metadata": {},
   "source": [
    "### Define Llama2\n"
   ]
  },
  {
   "cell_type": "code",
   "execution_count": 229,
   "metadata": {},
   "outputs": [],
   "source": [
    "class Llama2(nn.Module):\n",
    "    def __init__(self, cfg:dataclass):\n",
    "        super().__init__()\n",
    "        self.tok_emb = nn.Embedding(cfg.vocab_size, cfg.emb_dim, dtype=cfg.dtype)\n",
    "\n",
    "        # Transformer block\n",
    "        self.trf_blocks = nn.Sequential(*[TransformerBlock(cfg) for _ in range(cfg.n_layers)])\n",
    "\n",
    "        # RMSNorm\n",
    "        self.final_norm = RMSNorm(cfg.emb_dim)\n",
    "\n",
    "        # Final output layer\n",
    "        self.out_head = nn.Linear(cfg.emb_dim, cfg.vocab_size, bias=False, dtype=cfg.dtype)\n",
    "    \n",
    "    def forward(self,  in_idx:torch.Tensor):\n",
    "        tok_embeds = self.tok_emb(in_idx)\n",
    "        x = tok_embeds \n",
    "        x = self.trf_blocks(x)\n",
    "        x = self.final_norm(x)\n",
    "        logits = self.out_head(x)\n",
    "        return logits\n"
   ]
  },
  {
   "cell_type": "code",
   "execution_count": 230,
   "metadata": {},
   "outputs": [],
   "source": [
    "@dataclass\n",
    "class Llama2Config7B:\n",
    "    vocab_size = 32000      # Vocabulary size\n",
    "    context_length = 4096   # Context length\n",
    "    emb_dim = 4096          # Embedding dimension\n",
    "    n_heads = 32            # Number of attention heads\n",
    "    ff_bias = False         # Feed forward bias \n",
    "    n_layers = 32           # Number of layers\n",
    "    hidden_dim = 11008      # NEW = Size of the intermediate dimension in FeedForward\n",
    "    dtype = torch.bfloat16  # NEW: Lower-precision dtype to reduce memory usage\n"
   ]
  },
  {
   "cell_type": "code",
   "execution_count": 231,
   "metadata": {},
   "outputs": [],
   "source": [
    "model = Llama2(Llama2Config7B)"
   ]
  },
  {
   "cell_type": "code",
   "execution_count": 232,
   "metadata": {},
   "outputs": [
    {
     "name": "stdout",
     "output_type": "stream",
     "text": [
      "Total number of parameters: 6,738,415,616\n"
     ]
    }
   ],
   "source": [
    "total_params = sum(p.numel() for p in model.parameters())\n",
    "print(f\"Total number of parameters: {total_params:,}\")"
   ]
  },
  {
   "cell_type": "code",
   "execution_count": 233,
   "metadata": {},
   "outputs": [
    {
     "name": "stdout",
     "output_type": "stream",
     "text": [
      "float32 (PyTorch default): 52.33 GB\n",
      "bfloat16: 26.17 GB\n"
     ]
    }
   ],
   "source": [
    "def model_memory_size(model, input_dtype=torch.float32):\n",
    "    total_params = 0\n",
    "    total_grads = 0\n",
    "    for param in model.parameters():\n",
    "        # Calculate total number of elements per parameter\n",
    "        param_size = param.numel()\n",
    "        total_params += param_size\n",
    "        # Check if gradients are stored for this parameter\n",
    "        if param.requires_grad:\n",
    "            total_grads += param_size\n",
    "\n",
    "    # Calculate buffer size (non-parameters that require memory)\n",
    "    total_buffers = sum(buf.numel() for buf in model.buffers())\n",
    "\n",
    "    # Size in bytes = (Number of elements) * (Size of each element in bytes)\n",
    "    # We assume parameters and gradients are stored in the same type as input dtype\n",
    "    element_size = torch.tensor(0, dtype=input_dtype).element_size()\n",
    "    total_memory_bytes = (total_params + total_grads + total_buffers) * element_size\n",
    "\n",
    "    # Convert bytes to gigabytes\n",
    "    total_memory_gb = total_memory_bytes / (1024**3)\n",
    "\n",
    "    return total_memory_gb\n",
    "\n",
    "print(f\"float32 (PyTorch default): {model_memory_size(model, input_dtype=torch.float32):.2f} GB\")\n",
    "print(f\"bfloat16: {model_memory_size(model, input_dtype=torch.bfloat16):.2f} GB\")"
   ]
  },
  {
   "cell_type": "markdown",
   "metadata": {},
   "source": [
    "### Load in the Tokenizer\n"
   ]
  },
  {
   "cell_type": "code",
   "execution_count": null,
   "metadata": {},
   "outputs": [],
   "source": []
  }
 ],
 "metadata": {
  "kernelspec": {
   "display_name": "gpt-env",
   "language": "python",
   "name": "python3"
  },
  "language_info": {
   "codemirror_mode": {
    "name": "ipython",
    "version": 3
   },
   "file_extension": ".py",
   "mimetype": "text/x-python",
   "name": "python",
   "nbconvert_exporter": "python",
   "pygments_lexer": "ipython3",
   "version": "3.12.3"
  }
 },
 "nbformat": 4,
 "nbformat_minor": 2
}
